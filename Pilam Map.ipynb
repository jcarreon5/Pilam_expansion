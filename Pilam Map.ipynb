{
 "cells": [
  {
   "cell_type": "code",
   "execution_count": 1,
   "metadata": {},
   "outputs": [],
   "source": [
    "from bs4 import BeautifulSoup\n",
    "\n",
    "import urllib\n",
    "import urllib.request\n",
    "import re\n",
    "\n",
    "import numpy as np\n",
    "import pandas as pd\n",
    "from pandas import Series, DataFrame\n",
    "\n",
    "import math\n",
    "\n",
    "import matplotlib.pyplot as plt\n",
    "from pylab import rcParams"
   ]
  },
  {
   "cell_type": "code",
   "execution_count": 2,
   "metadata": {},
   "outputs": [],
   "source": [
    "\n",
    "us_state_abbrev = {\n",
    "    'Alabama': 'AL',\n",
    "    'Alaska': 'AK',\n",
    "    'Arizona': 'AZ',\n",
    "    'Arkansas': 'AR',\n",
    "    'California': 'CA',\n",
    "    'Colorado': 'CO',\n",
    "    'Connecticut': 'CT',\n",
    "    'Delaware': 'DE',\n",
    "    'Florida': 'FL',\n",
    "    'Georgia': 'GA',\n",
    "    'Hawaii': 'HI',\n",
    "    'Idaho': 'ID',\n",
    "    'Illinois': 'IL',\n",
    "    'Indiana': 'IN',\n",
    "    'Iowa': 'IA',\n",
    "    'Kansas': 'KS',\n",
    "    'Kentucky': 'KY',\n",
    "    'Louisiana': 'LA',\n",
    "    'Maine': 'ME',\n",
    "    'Maryland': 'MD',\n",
    "    'Massachusetts': 'MA',\n",
    "    'Michigan': 'MI',\n",
    "    'Minnesota': 'MN',\n",
    "    'Mississippi': 'MS',\n",
    "    'Missouri': 'MO',\n",
    "    'Montana': 'MT',\n",
    "    'Nebraska': 'NE',\n",
    "    'Nevada': 'NV',\n",
    "    'New Hampshire': 'NH',\n",
    "    'New Jersey': 'NJ',\n",
    "    'New Mexico': 'NM',\n",
    "    'New York': 'NY',\n",
    "    'North Carolina': 'NC',\n",
    "    'North Dakota': 'ND',\n",
    "    'Ohio': 'OH',\n",
    "    'Oklahoma': 'OK',\n",
    "    'Oregon': 'OR',\n",
    "    'Pennsylvania': 'PA',\n",
    "    'Rhode Island': 'RI',\n",
    "    'South Carolina': 'SC',\n",
    "    'South Dakota': 'SD',\n",
    "    'Tennessee': 'TN',\n",
    "    'Texas': 'TX',\n",
    "    'Utah': 'UT',\n",
    "    'Vermont': 'VT',\n",
    "    'Virginia': 'VA',\n",
    "    'Washington': 'WA',\n",
    "    'West Virginia': 'WV',\n",
    "    'Wisconsin': 'WI',\n",
    "    'Wyoming': 'WY'\n",
    "}\n",
    "\n",
    "\n",
    "abbrev_us_state = dict(map(reversed, us_state_abbrev.items()))\n"
   ]
  },
  {
   "cell_type": "code",
   "execution_count": 3,
   "metadata": {},
   "outputs": [],
   "source": [
    "with urllib.request.urlopen(\" https://raw.githubusercontent.com/jcarreon5/Pilam_expansion/master/Pilam_Chapters.html\") as response:\n",
    "    html =  response.read()\n"
   ]
  },
  {
   "cell_type": "code",
   "execution_count": 4,
   "metadata": {},
   "outputs": [
    {
     "output_type": "execute_result",
     "data": {
      "text/plain": [
       "bs4.BeautifulSoup"
      ]
     },
     "metadata": {},
     "execution_count": 4
    }
   ],
   "source": [
    "soup = BeautifulSoup(html,'lxml')\n",
    "type(soup)"
   ]
  },
  {
   "cell_type": "code",
   "execution_count": 5,
   "metadata": {},
   "outputs": [
    {
     "output_type": "stream",
     "name": "stdout",
     "text": [
      "<html>\n <body>\n  <div class=\"group-row\">\n   <h2>\n    Alabama\n   </h2>\n   <div class=\"fwpl-row el-n8r\n"
     ]
    }
   ],
   "source": [
    "print(soup.prettify()[:100])"
   ]
  },
  {
   "cell_type": "code",
   "execution_count": 6,
   "metadata": {},
   "outputs": [
    {
     "output_type": "execute_result",
     "data": {
      "text/plain": [
       "     University_link  Inactive_date  Founded_date  Chapter_name  Chapter_link  \\\n",
       "0                NaN            NaN           NaN           NaN           NaN   \n",
       "1                NaN            NaN           NaN           NaN           NaN   \n",
       "2                NaN            NaN           NaN           NaN           NaN   \n",
       "3                NaN            NaN           NaN           NaN           NaN   \n",
       "4                NaN            NaN           NaN           NaN           NaN   \n",
       "..               ...            ...           ...           ...           ...   \n",
       "143              NaN            NaN           NaN           NaN           NaN   \n",
       "144              NaN            NaN           NaN           NaN           NaN   \n",
       "145              NaN            NaN           NaN           NaN           NaN   \n",
       "146              NaN            NaN           NaN           NaN           NaN   \n",
       "147              NaN            NaN           NaN           NaN           NaN   \n",
       "\n",
       "     State/Providence  Chapter_type  Refounded_date  \\\n",
       "0                 NaN           NaN             NaN   \n",
       "1                 NaN           NaN             NaN   \n",
       "2                 NaN           NaN             NaN   \n",
       "3                 NaN           NaN             NaN   \n",
       "4                 NaN           NaN             NaN   \n",
       "..                ...           ...             ...   \n",
       "143               NaN           NaN             NaN   \n",
       "144               NaN           NaN             NaN   \n",
       "145               NaN           NaN             NaN   \n",
       "146               NaN           NaN             NaN   \n",
       "147               NaN           NaN             NaN   \n",
       "\n",
       "     Functional_University_link  Country  University_name  \\\n",
       "0                           NaN      NaN              NaN   \n",
       "1                           NaN      NaN              NaN   \n",
       "2                           NaN      NaN              NaN   \n",
       "3                           NaN      NaN              NaN   \n",
       "4                           NaN      NaN              NaN   \n",
       "..                          ...      ...              ...   \n",
       "143                         NaN      NaN              NaN   \n",
       "144                         NaN      NaN              NaN   \n",
       "145                         NaN      NaN              NaN   \n",
       "146                         NaN      NaN              NaN   \n",
       "147                         NaN      NaN              NaN   \n",
       "\n",
       "     Functional_Chapter_link  \n",
       "0                        NaN  \n",
       "1                        NaN  \n",
       "2                        NaN  \n",
       "3                        NaN  \n",
       "4                        NaN  \n",
       "..                       ...  \n",
       "143                      NaN  \n",
       "144                      NaN  \n",
       "145                      NaN  \n",
       "146                      NaN  \n",
       "147                      NaN  \n",
       "\n",
       "[148 rows x 12 columns]"
      ],
      "text/html": "<div>\n<style scoped>\n    .dataframe tbody tr th:only-of-type {\n        vertical-align: middle;\n    }\n\n    .dataframe tbody tr th {\n        vertical-align: top;\n    }\n\n    .dataframe thead th {\n        text-align: right;\n    }\n</style>\n<table border=\"1\" class=\"dataframe\">\n  <thead>\n    <tr style=\"text-align: right;\">\n      <th></th>\n      <th>University_link</th>\n      <th>Inactive_date</th>\n      <th>Founded_date</th>\n      <th>Chapter_name</th>\n      <th>Chapter_link</th>\n      <th>State/Providence</th>\n      <th>Chapter_type</th>\n      <th>Refounded_date</th>\n      <th>Functional_University_link</th>\n      <th>Country</th>\n      <th>University_name</th>\n      <th>Functional_Chapter_link</th>\n    </tr>\n  </thead>\n  <tbody>\n    <tr>\n      <td>0</td>\n      <td>NaN</td>\n      <td>NaN</td>\n      <td>NaN</td>\n      <td>NaN</td>\n      <td>NaN</td>\n      <td>NaN</td>\n      <td>NaN</td>\n      <td>NaN</td>\n      <td>NaN</td>\n      <td>NaN</td>\n      <td>NaN</td>\n      <td>NaN</td>\n    </tr>\n    <tr>\n      <td>1</td>\n      <td>NaN</td>\n      <td>NaN</td>\n      <td>NaN</td>\n      <td>NaN</td>\n      <td>NaN</td>\n      <td>NaN</td>\n      <td>NaN</td>\n      <td>NaN</td>\n      <td>NaN</td>\n      <td>NaN</td>\n      <td>NaN</td>\n      <td>NaN</td>\n    </tr>\n    <tr>\n      <td>2</td>\n      <td>NaN</td>\n      <td>NaN</td>\n      <td>NaN</td>\n      <td>NaN</td>\n      <td>NaN</td>\n      <td>NaN</td>\n      <td>NaN</td>\n      <td>NaN</td>\n      <td>NaN</td>\n      <td>NaN</td>\n      <td>NaN</td>\n      <td>NaN</td>\n    </tr>\n    <tr>\n      <td>3</td>\n      <td>NaN</td>\n      <td>NaN</td>\n      <td>NaN</td>\n      <td>NaN</td>\n      <td>NaN</td>\n      <td>NaN</td>\n      <td>NaN</td>\n      <td>NaN</td>\n      <td>NaN</td>\n      <td>NaN</td>\n      <td>NaN</td>\n      <td>NaN</td>\n    </tr>\n    <tr>\n      <td>4</td>\n      <td>NaN</td>\n      <td>NaN</td>\n      <td>NaN</td>\n      <td>NaN</td>\n      <td>NaN</td>\n      <td>NaN</td>\n      <td>NaN</td>\n      <td>NaN</td>\n      <td>NaN</td>\n      <td>NaN</td>\n      <td>NaN</td>\n      <td>NaN</td>\n    </tr>\n    <tr>\n      <td>...</td>\n      <td>...</td>\n      <td>...</td>\n      <td>...</td>\n      <td>...</td>\n      <td>...</td>\n      <td>...</td>\n      <td>...</td>\n      <td>...</td>\n      <td>...</td>\n      <td>...</td>\n      <td>...</td>\n      <td>...</td>\n    </tr>\n    <tr>\n      <td>143</td>\n      <td>NaN</td>\n      <td>NaN</td>\n      <td>NaN</td>\n      <td>NaN</td>\n      <td>NaN</td>\n      <td>NaN</td>\n      <td>NaN</td>\n      <td>NaN</td>\n      <td>NaN</td>\n      <td>NaN</td>\n      <td>NaN</td>\n      <td>NaN</td>\n    </tr>\n    <tr>\n      <td>144</td>\n      <td>NaN</td>\n      <td>NaN</td>\n      <td>NaN</td>\n      <td>NaN</td>\n      <td>NaN</td>\n      <td>NaN</td>\n      <td>NaN</td>\n      <td>NaN</td>\n      <td>NaN</td>\n      <td>NaN</td>\n      <td>NaN</td>\n      <td>NaN</td>\n    </tr>\n    <tr>\n      <td>145</td>\n      <td>NaN</td>\n      <td>NaN</td>\n      <td>NaN</td>\n      <td>NaN</td>\n      <td>NaN</td>\n      <td>NaN</td>\n      <td>NaN</td>\n      <td>NaN</td>\n      <td>NaN</td>\n      <td>NaN</td>\n      <td>NaN</td>\n      <td>NaN</td>\n    </tr>\n    <tr>\n      <td>146</td>\n      <td>NaN</td>\n      <td>NaN</td>\n      <td>NaN</td>\n      <td>NaN</td>\n      <td>NaN</td>\n      <td>NaN</td>\n      <td>NaN</td>\n      <td>NaN</td>\n      <td>NaN</td>\n      <td>NaN</td>\n      <td>NaN</td>\n      <td>NaN</td>\n    </tr>\n    <tr>\n      <td>147</td>\n      <td>NaN</td>\n      <td>NaN</td>\n      <td>NaN</td>\n      <td>NaN</td>\n      <td>NaN</td>\n      <td>NaN</td>\n      <td>NaN</td>\n      <td>NaN</td>\n      <td>NaN</td>\n      <td>NaN</td>\n      <td>NaN</td>\n      <td>NaN</td>\n    </tr>\n  </tbody>\n</table>\n<p>148 rows × 12 columns</p>\n</div>"
     },
     "metadata": {},
     "execution_count": 6
    }
   ],
   "source": [
    "#name of the Columns\n",
    "col= {'Country','State/Providence','Chapter_name','Chapter_link','University_name','University_link',\n",
    "      'Chapter_type','Founded_date','Inactive_date','Refounded_date', 'Functional_University_link','Functional_Chapter_link'}\n",
    "\n",
    "#number of rows = number of chapters in Pilam(148)\n",
    "index = range(0,148)\n",
    "\n",
    "# An (148,8) DataFrame with all elements equal to NaN\n",
    "df_pilam_info = pd.DataFrame(np.nan, index=index,columns= col)\n",
    "\n",
    "df_pilam_info"
   ]
  },
  {
   "cell_type": "code",
   "execution_count": 7,
   "metadata": {},
   "outputs": [],
   "source": [
    "#divTag is all the Html code within each specific chapter\n",
    "divTag = pd.Series(soup.find_all('div',{'class': 'fwpl-row el-n8rqv8'}))"
   ]
  },
  {
   "cell_type": "code",
   "execution_count": 8,
   "metadata": {},
   "outputs": [],
   "source": [
    "#Finds and Store all chapter names\n",
    "names = []\n",
    "for info in divTag:\n",
    "    h3Tag = pd.Series(info.find_all('h3'))\n",
    "    for x in h3Tag:\n",
    "        names.append(x.get_text())\n",
    "df_pilam_info['Chapter_name'] = names\n",
    "\n"
   ]
  },
  {
   "cell_type": "code",
   "execution_count": 9,
   "metadata": {},
   "outputs": [
    {
     "output_type": "execute_result",
     "data": {
      "text/plain": [
       "     University_link  Inactive_date  Founded_date      Chapter_name  \\\n",
       "0                NaN            NaN           NaN      AL Alpha Eta   \n",
       "1                NaN            NaN           NaN     AL Alpha Zeta   \n",
       "2                NaN            NaN           NaN  CA Alpha Upsilon   \n",
       "3                NaN            NaN           NaN          CA Kappa   \n",
       "4                NaN            NaN           NaN            CA Tau   \n",
       "..               ...            ...           ...               ...   \n",
       "143              NaN            NaN           NaN  WA Epsilon Alpha   \n",
       "144              NaN            NaN           NaN       WI Alpha Nu   \n",
       "145              NaN            NaN           NaN    WI Chi Upsilon   \n",
       "146              NaN            NaN           NaN          WI Omega   \n",
       "147              NaN            NaN           NaN             WV Mu   \n",
       "\n",
       "     Chapter_link  State/Providence  Chapter_type  Refounded_date  \\\n",
       "0             NaN               NaN           NaN             NaN   \n",
       "1             NaN               NaN           NaN             NaN   \n",
       "2             NaN               NaN           NaN             NaN   \n",
       "3             NaN               NaN           NaN             NaN   \n",
       "4             NaN               NaN           NaN             NaN   \n",
       "..            ...               ...           ...             ...   \n",
       "143           NaN               NaN           NaN             NaN   \n",
       "144           NaN               NaN           NaN             NaN   \n",
       "145           NaN               NaN           NaN             NaN   \n",
       "146           NaN               NaN           NaN             NaN   \n",
       "147           NaN               NaN           NaN             NaN   \n",
       "\n",
       "     Functional_University_link  Country  University_name  \\\n",
       "0                           NaN      NaN              NaN   \n",
       "1                           NaN      NaN              NaN   \n",
       "2                           NaN      NaN              NaN   \n",
       "3                           NaN      NaN              NaN   \n",
       "4                           NaN      NaN              NaN   \n",
       "..                          ...      ...              ...   \n",
       "143                         NaN      NaN              NaN   \n",
       "144                         NaN      NaN              NaN   \n",
       "145                         NaN      NaN              NaN   \n",
       "146                         NaN      NaN              NaN   \n",
       "147                         NaN      NaN              NaN   \n",
       "\n",
       "     Functional_Chapter_link  \n",
       "0                        NaN  \n",
       "1                        NaN  \n",
       "2                        NaN  \n",
       "3                        NaN  \n",
       "4                        NaN  \n",
       "..                       ...  \n",
       "143                      NaN  \n",
       "144                      NaN  \n",
       "145                      NaN  \n",
       "146                      NaN  \n",
       "147                      NaN  \n",
       "\n",
       "[148 rows x 12 columns]"
      ],
      "text/html": "<div>\n<style scoped>\n    .dataframe tbody tr th:only-of-type {\n        vertical-align: middle;\n    }\n\n    .dataframe tbody tr th {\n        vertical-align: top;\n    }\n\n    .dataframe thead th {\n        text-align: right;\n    }\n</style>\n<table border=\"1\" class=\"dataframe\">\n  <thead>\n    <tr style=\"text-align: right;\">\n      <th></th>\n      <th>University_link</th>\n      <th>Inactive_date</th>\n      <th>Founded_date</th>\n      <th>Chapter_name</th>\n      <th>Chapter_link</th>\n      <th>State/Providence</th>\n      <th>Chapter_type</th>\n      <th>Refounded_date</th>\n      <th>Functional_University_link</th>\n      <th>Country</th>\n      <th>University_name</th>\n      <th>Functional_Chapter_link</th>\n    </tr>\n  </thead>\n  <tbody>\n    <tr>\n      <td>0</td>\n      <td>NaN</td>\n      <td>NaN</td>\n      <td>NaN</td>\n      <td>AL Alpha Eta</td>\n      <td>NaN</td>\n      <td>NaN</td>\n      <td>NaN</td>\n      <td>NaN</td>\n      <td>NaN</td>\n      <td>NaN</td>\n      <td>NaN</td>\n      <td>NaN</td>\n    </tr>\n    <tr>\n      <td>1</td>\n      <td>NaN</td>\n      <td>NaN</td>\n      <td>NaN</td>\n      <td>AL Alpha Zeta</td>\n      <td>NaN</td>\n      <td>NaN</td>\n      <td>NaN</td>\n      <td>NaN</td>\n      <td>NaN</td>\n      <td>NaN</td>\n      <td>NaN</td>\n      <td>NaN</td>\n    </tr>\n    <tr>\n      <td>2</td>\n      <td>NaN</td>\n      <td>NaN</td>\n      <td>NaN</td>\n      <td>CA Alpha Upsilon</td>\n      <td>NaN</td>\n      <td>NaN</td>\n      <td>NaN</td>\n      <td>NaN</td>\n      <td>NaN</td>\n      <td>NaN</td>\n      <td>NaN</td>\n      <td>NaN</td>\n    </tr>\n    <tr>\n      <td>3</td>\n      <td>NaN</td>\n      <td>NaN</td>\n      <td>NaN</td>\n      <td>CA Kappa</td>\n      <td>NaN</td>\n      <td>NaN</td>\n      <td>NaN</td>\n      <td>NaN</td>\n      <td>NaN</td>\n      <td>NaN</td>\n      <td>NaN</td>\n      <td>NaN</td>\n    </tr>\n    <tr>\n      <td>4</td>\n      <td>NaN</td>\n      <td>NaN</td>\n      <td>NaN</td>\n      <td>CA Tau</td>\n      <td>NaN</td>\n      <td>NaN</td>\n      <td>NaN</td>\n      <td>NaN</td>\n      <td>NaN</td>\n      <td>NaN</td>\n      <td>NaN</td>\n      <td>NaN</td>\n    </tr>\n    <tr>\n      <td>...</td>\n      <td>...</td>\n      <td>...</td>\n      <td>...</td>\n      <td>...</td>\n      <td>...</td>\n      <td>...</td>\n      <td>...</td>\n      <td>...</td>\n      <td>...</td>\n      <td>...</td>\n      <td>...</td>\n      <td>...</td>\n    </tr>\n    <tr>\n      <td>143</td>\n      <td>NaN</td>\n      <td>NaN</td>\n      <td>NaN</td>\n      <td>WA Epsilon Alpha</td>\n      <td>NaN</td>\n      <td>NaN</td>\n      <td>NaN</td>\n      <td>NaN</td>\n      <td>NaN</td>\n      <td>NaN</td>\n      <td>NaN</td>\n      <td>NaN</td>\n    </tr>\n    <tr>\n      <td>144</td>\n      <td>NaN</td>\n      <td>NaN</td>\n      <td>NaN</td>\n      <td>WI Alpha Nu</td>\n      <td>NaN</td>\n      <td>NaN</td>\n      <td>NaN</td>\n      <td>NaN</td>\n      <td>NaN</td>\n      <td>NaN</td>\n      <td>NaN</td>\n      <td>NaN</td>\n    </tr>\n    <tr>\n      <td>145</td>\n      <td>NaN</td>\n      <td>NaN</td>\n      <td>NaN</td>\n      <td>WI Chi Upsilon</td>\n      <td>NaN</td>\n      <td>NaN</td>\n      <td>NaN</td>\n      <td>NaN</td>\n      <td>NaN</td>\n      <td>NaN</td>\n      <td>NaN</td>\n      <td>NaN</td>\n    </tr>\n    <tr>\n      <td>146</td>\n      <td>NaN</td>\n      <td>NaN</td>\n      <td>NaN</td>\n      <td>WI Omega</td>\n      <td>NaN</td>\n      <td>NaN</td>\n      <td>NaN</td>\n      <td>NaN</td>\n      <td>NaN</td>\n      <td>NaN</td>\n      <td>NaN</td>\n      <td>NaN</td>\n    </tr>\n    <tr>\n      <td>147</td>\n      <td>NaN</td>\n      <td>NaN</td>\n      <td>NaN</td>\n      <td>WV Mu</td>\n      <td>NaN</td>\n      <td>NaN</td>\n      <td>NaN</td>\n      <td>NaN</td>\n      <td>NaN</td>\n      <td>NaN</td>\n      <td>NaN</td>\n      <td>NaN</td>\n    </tr>\n  </tbody>\n</table>\n<p>148 rows × 12 columns</p>\n</div>"
     },
     "metadata": {},
     "execution_count": 9
    }
   ],
   "source": [
    "df_pilam_info"
   ]
  },
  {
   "cell_type": "code",
   "execution_count": 10,
   "metadata": {},
   "outputs": [],
   "source": [
    "##Finds and Store all inactive dates\n",
    "ina = []\n",
    "for info in divTag:\n",
    "    spanTag_ina = pd.Series(info.find_all(string=re.compile('Inactive: ')))\n",
    "    if len(spanTag_ina) == 0:\n",
    "        ina.append(0)\n",
    "    else:\n",
    "        for x in spanTag_ina:\n",
    "            temp = re.findall(r'\\d+', x) \n",
    "            res = list(map(int, temp))[0]\n",
    "            ina.append(res)\n",
    "\n",
    "df_pilam_info['Inactive_date'] = ina\n"
   ]
  },
  {
   "cell_type": "code",
   "execution_count": 11,
   "metadata": {},
   "outputs": [
    {
     "output_type": "execute_result",
     "data": {
      "text/plain": [
       "     University_link  Inactive_date  Founded_date      Chapter_name  \\\n",
       "0                NaN           1940           NaN      AL Alpha Eta   \n",
       "1                NaN           1990           NaN     AL Alpha Zeta   \n",
       "2                NaN              0           NaN  CA Alpha Upsilon   \n",
       "3                NaN           1950           NaN          CA Kappa   \n",
       "4                NaN              0           NaN            CA Tau   \n",
       "..               ...            ...           ...               ...   \n",
       "143              NaN              0           NaN  WA Epsilon Alpha   \n",
       "144              NaN           2016           NaN       WI Alpha Nu   \n",
       "145              NaN              0           NaN    WI Chi Upsilon   \n",
       "146              NaN              0           NaN          WI Omega   \n",
       "147              NaN           1959           NaN             WV Mu   \n",
       "\n",
       "     Chapter_link  State/Providence  Chapter_type  Refounded_date  \\\n",
       "0             NaN               NaN           NaN             NaN   \n",
       "1             NaN               NaN           NaN             NaN   \n",
       "2             NaN               NaN           NaN             NaN   \n",
       "3             NaN               NaN           NaN             NaN   \n",
       "4             NaN               NaN           NaN             NaN   \n",
       "..            ...               ...           ...             ...   \n",
       "143           NaN               NaN           NaN             NaN   \n",
       "144           NaN               NaN           NaN             NaN   \n",
       "145           NaN               NaN           NaN             NaN   \n",
       "146           NaN               NaN           NaN             NaN   \n",
       "147           NaN               NaN           NaN             NaN   \n",
       "\n",
       "     Functional_University_link  Country  University_name  \\\n",
       "0                           NaN      NaN              NaN   \n",
       "1                           NaN      NaN              NaN   \n",
       "2                           NaN      NaN              NaN   \n",
       "3                           NaN      NaN              NaN   \n",
       "4                           NaN      NaN              NaN   \n",
       "..                          ...      ...              ...   \n",
       "143                         NaN      NaN              NaN   \n",
       "144                         NaN      NaN              NaN   \n",
       "145                         NaN      NaN              NaN   \n",
       "146                         NaN      NaN              NaN   \n",
       "147                         NaN      NaN              NaN   \n",
       "\n",
       "     Functional_Chapter_link  \n",
       "0                        NaN  \n",
       "1                        NaN  \n",
       "2                        NaN  \n",
       "3                        NaN  \n",
       "4                        NaN  \n",
       "..                       ...  \n",
       "143                      NaN  \n",
       "144                      NaN  \n",
       "145                      NaN  \n",
       "146                      NaN  \n",
       "147                      NaN  \n",
       "\n",
       "[148 rows x 12 columns]"
      ],
      "text/html": "<div>\n<style scoped>\n    .dataframe tbody tr th:only-of-type {\n        vertical-align: middle;\n    }\n\n    .dataframe tbody tr th {\n        vertical-align: top;\n    }\n\n    .dataframe thead th {\n        text-align: right;\n    }\n</style>\n<table border=\"1\" class=\"dataframe\">\n  <thead>\n    <tr style=\"text-align: right;\">\n      <th></th>\n      <th>University_link</th>\n      <th>Inactive_date</th>\n      <th>Founded_date</th>\n      <th>Chapter_name</th>\n      <th>Chapter_link</th>\n      <th>State/Providence</th>\n      <th>Chapter_type</th>\n      <th>Refounded_date</th>\n      <th>Functional_University_link</th>\n      <th>Country</th>\n      <th>University_name</th>\n      <th>Functional_Chapter_link</th>\n    </tr>\n  </thead>\n  <tbody>\n    <tr>\n      <td>0</td>\n      <td>NaN</td>\n      <td>1940</td>\n      <td>NaN</td>\n      <td>AL Alpha Eta</td>\n      <td>NaN</td>\n      <td>NaN</td>\n      <td>NaN</td>\n      <td>NaN</td>\n      <td>NaN</td>\n      <td>NaN</td>\n      <td>NaN</td>\n      <td>NaN</td>\n    </tr>\n    <tr>\n      <td>1</td>\n      <td>NaN</td>\n      <td>1990</td>\n      <td>NaN</td>\n      <td>AL Alpha Zeta</td>\n      <td>NaN</td>\n      <td>NaN</td>\n      <td>NaN</td>\n      <td>NaN</td>\n      <td>NaN</td>\n      <td>NaN</td>\n      <td>NaN</td>\n      <td>NaN</td>\n    </tr>\n    <tr>\n      <td>2</td>\n      <td>NaN</td>\n      <td>0</td>\n      <td>NaN</td>\n      <td>CA Alpha Upsilon</td>\n      <td>NaN</td>\n      <td>NaN</td>\n      <td>NaN</td>\n      <td>NaN</td>\n      <td>NaN</td>\n      <td>NaN</td>\n      <td>NaN</td>\n      <td>NaN</td>\n    </tr>\n    <tr>\n      <td>3</td>\n      <td>NaN</td>\n      <td>1950</td>\n      <td>NaN</td>\n      <td>CA Kappa</td>\n      <td>NaN</td>\n      <td>NaN</td>\n      <td>NaN</td>\n      <td>NaN</td>\n      <td>NaN</td>\n      <td>NaN</td>\n      <td>NaN</td>\n      <td>NaN</td>\n    </tr>\n    <tr>\n      <td>4</td>\n      <td>NaN</td>\n      <td>0</td>\n      <td>NaN</td>\n      <td>CA Tau</td>\n      <td>NaN</td>\n      <td>NaN</td>\n      <td>NaN</td>\n      <td>NaN</td>\n      <td>NaN</td>\n      <td>NaN</td>\n      <td>NaN</td>\n      <td>NaN</td>\n    </tr>\n    <tr>\n      <td>...</td>\n      <td>...</td>\n      <td>...</td>\n      <td>...</td>\n      <td>...</td>\n      <td>...</td>\n      <td>...</td>\n      <td>...</td>\n      <td>...</td>\n      <td>...</td>\n      <td>...</td>\n      <td>...</td>\n      <td>...</td>\n    </tr>\n    <tr>\n      <td>143</td>\n      <td>NaN</td>\n      <td>0</td>\n      <td>NaN</td>\n      <td>WA Epsilon Alpha</td>\n      <td>NaN</td>\n      <td>NaN</td>\n      <td>NaN</td>\n      <td>NaN</td>\n      <td>NaN</td>\n      <td>NaN</td>\n      <td>NaN</td>\n      <td>NaN</td>\n    </tr>\n    <tr>\n      <td>144</td>\n      <td>NaN</td>\n      <td>2016</td>\n      <td>NaN</td>\n      <td>WI Alpha Nu</td>\n      <td>NaN</td>\n      <td>NaN</td>\n      <td>NaN</td>\n      <td>NaN</td>\n      <td>NaN</td>\n      <td>NaN</td>\n      <td>NaN</td>\n      <td>NaN</td>\n    </tr>\n    <tr>\n      <td>145</td>\n      <td>NaN</td>\n      <td>0</td>\n      <td>NaN</td>\n      <td>WI Chi Upsilon</td>\n      <td>NaN</td>\n      <td>NaN</td>\n      <td>NaN</td>\n      <td>NaN</td>\n      <td>NaN</td>\n      <td>NaN</td>\n      <td>NaN</td>\n      <td>NaN</td>\n    </tr>\n    <tr>\n      <td>146</td>\n      <td>NaN</td>\n      <td>0</td>\n      <td>NaN</td>\n      <td>WI Omega</td>\n      <td>NaN</td>\n      <td>NaN</td>\n      <td>NaN</td>\n      <td>NaN</td>\n      <td>NaN</td>\n      <td>NaN</td>\n      <td>NaN</td>\n      <td>NaN</td>\n    </tr>\n    <tr>\n      <td>147</td>\n      <td>NaN</td>\n      <td>1959</td>\n      <td>NaN</td>\n      <td>WV Mu</td>\n      <td>NaN</td>\n      <td>NaN</td>\n      <td>NaN</td>\n      <td>NaN</td>\n      <td>NaN</td>\n      <td>NaN</td>\n      <td>NaN</td>\n      <td>NaN</td>\n    </tr>\n  </tbody>\n</table>\n<p>148 rows × 12 columns</p>\n</div>"
     },
     "metadata": {},
     "execution_count": 11
    }
   ],
   "source": [
    "df_pilam_info"
   ]
  },
  {
   "cell_type": "code",
   "execution_count": 12,
   "metadata": {},
   "outputs": [],
   "source": [
    "##Finds and Stores all the founding dtaes\n",
    "fou = []\n",
    "for info in divTag:\n",
    "    spanTag_fou = pd.Series(info.find_all(string=re.compile('Founded: ')))\n",
    "    if len(spanTag_fou) == 0:\n",
    "        fou.append(0)\n",
    "    else:\n",
    "        for x in spanTag_fou:\n",
    "            temp = re.findall(r'\\d+', x) \n",
    "            res = list(map(int, temp))[0]\n",
    "            fou.append(res)\n",
    "\n",
    "df_pilam_info['Founded_date'] = fou"
   ]
  },
  {
   "cell_type": "code",
   "execution_count": 13,
   "metadata": {},
   "outputs": [
    {
     "output_type": "execute_result",
     "data": {
      "text/plain": [
       "     University_link  Inactive_date  Founded_date      Chapter_name  \\\n",
       "0                NaN           1940          1927      AL Alpha Eta   \n",
       "1                NaN           1990          1986     AL Alpha Zeta   \n",
       "2                NaN              0          2016  CA Alpha Upsilon   \n",
       "3                NaN           1950          1920          CA Kappa   \n",
       "4                NaN              0          1922            CA Tau   \n",
       "..               ...            ...           ...               ...   \n",
       "143              NaN              0          1995  WA Epsilon Alpha   \n",
       "144              NaN           2016          2012       WI Alpha Nu   \n",
       "145              NaN              0          2011    WI Chi Upsilon   \n",
       "146              NaN              0          1926          WI Omega   \n",
       "147              NaN           1959          1922             WV Mu   \n",
       "\n",
       "     Chapter_link  State/Providence  Chapter_type  Refounded_date  \\\n",
       "0             NaN               NaN           NaN             NaN   \n",
       "1             NaN               NaN           NaN             NaN   \n",
       "2             NaN               NaN           NaN             NaN   \n",
       "3             NaN               NaN           NaN             NaN   \n",
       "4             NaN               NaN           NaN             NaN   \n",
       "..            ...               ...           ...             ...   \n",
       "143           NaN               NaN           NaN             NaN   \n",
       "144           NaN               NaN           NaN             NaN   \n",
       "145           NaN               NaN           NaN             NaN   \n",
       "146           NaN               NaN           NaN             NaN   \n",
       "147           NaN               NaN           NaN             NaN   \n",
       "\n",
       "     Functional_University_link  Country  University_name  \\\n",
       "0                           NaN      NaN              NaN   \n",
       "1                           NaN      NaN              NaN   \n",
       "2                           NaN      NaN              NaN   \n",
       "3                           NaN      NaN              NaN   \n",
       "4                           NaN      NaN              NaN   \n",
       "..                          ...      ...              ...   \n",
       "143                         NaN      NaN              NaN   \n",
       "144                         NaN      NaN              NaN   \n",
       "145                         NaN      NaN              NaN   \n",
       "146                         NaN      NaN              NaN   \n",
       "147                         NaN      NaN              NaN   \n",
       "\n",
       "     Functional_Chapter_link  \n",
       "0                        NaN  \n",
       "1                        NaN  \n",
       "2                        NaN  \n",
       "3                        NaN  \n",
       "4                        NaN  \n",
       "..                       ...  \n",
       "143                      NaN  \n",
       "144                      NaN  \n",
       "145                      NaN  \n",
       "146                      NaN  \n",
       "147                      NaN  \n",
       "\n",
       "[148 rows x 12 columns]"
      ],
      "text/html": "<div>\n<style scoped>\n    .dataframe tbody tr th:only-of-type {\n        vertical-align: middle;\n    }\n\n    .dataframe tbody tr th {\n        vertical-align: top;\n    }\n\n    .dataframe thead th {\n        text-align: right;\n    }\n</style>\n<table border=\"1\" class=\"dataframe\">\n  <thead>\n    <tr style=\"text-align: right;\">\n      <th></th>\n      <th>University_link</th>\n      <th>Inactive_date</th>\n      <th>Founded_date</th>\n      <th>Chapter_name</th>\n      <th>Chapter_link</th>\n      <th>State/Providence</th>\n      <th>Chapter_type</th>\n      <th>Refounded_date</th>\n      <th>Functional_University_link</th>\n      <th>Country</th>\n      <th>University_name</th>\n      <th>Functional_Chapter_link</th>\n    </tr>\n  </thead>\n  <tbody>\n    <tr>\n      <td>0</td>\n      <td>NaN</td>\n      <td>1940</td>\n      <td>1927</td>\n      <td>AL Alpha Eta</td>\n      <td>NaN</td>\n      <td>NaN</td>\n      <td>NaN</td>\n      <td>NaN</td>\n      <td>NaN</td>\n      <td>NaN</td>\n      <td>NaN</td>\n      <td>NaN</td>\n    </tr>\n    <tr>\n      <td>1</td>\n      <td>NaN</td>\n      <td>1990</td>\n      <td>1986</td>\n      <td>AL Alpha Zeta</td>\n      <td>NaN</td>\n      <td>NaN</td>\n      <td>NaN</td>\n      <td>NaN</td>\n      <td>NaN</td>\n      <td>NaN</td>\n      <td>NaN</td>\n      <td>NaN</td>\n    </tr>\n    <tr>\n      <td>2</td>\n      <td>NaN</td>\n      <td>0</td>\n      <td>2016</td>\n      <td>CA Alpha Upsilon</td>\n      <td>NaN</td>\n      <td>NaN</td>\n      <td>NaN</td>\n      <td>NaN</td>\n      <td>NaN</td>\n      <td>NaN</td>\n      <td>NaN</td>\n      <td>NaN</td>\n    </tr>\n    <tr>\n      <td>3</td>\n      <td>NaN</td>\n      <td>1950</td>\n      <td>1920</td>\n      <td>CA Kappa</td>\n      <td>NaN</td>\n      <td>NaN</td>\n      <td>NaN</td>\n      <td>NaN</td>\n      <td>NaN</td>\n      <td>NaN</td>\n      <td>NaN</td>\n      <td>NaN</td>\n    </tr>\n    <tr>\n      <td>4</td>\n      <td>NaN</td>\n      <td>0</td>\n      <td>1922</td>\n      <td>CA Tau</td>\n      <td>NaN</td>\n      <td>NaN</td>\n      <td>NaN</td>\n      <td>NaN</td>\n      <td>NaN</td>\n      <td>NaN</td>\n      <td>NaN</td>\n      <td>NaN</td>\n    </tr>\n    <tr>\n      <td>...</td>\n      <td>...</td>\n      <td>...</td>\n      <td>...</td>\n      <td>...</td>\n      <td>...</td>\n      <td>...</td>\n      <td>...</td>\n      <td>...</td>\n      <td>...</td>\n      <td>...</td>\n      <td>...</td>\n      <td>...</td>\n    </tr>\n    <tr>\n      <td>143</td>\n      <td>NaN</td>\n      <td>0</td>\n      <td>1995</td>\n      <td>WA Epsilon Alpha</td>\n      <td>NaN</td>\n      <td>NaN</td>\n      <td>NaN</td>\n      <td>NaN</td>\n      <td>NaN</td>\n      <td>NaN</td>\n      <td>NaN</td>\n      <td>NaN</td>\n    </tr>\n    <tr>\n      <td>144</td>\n      <td>NaN</td>\n      <td>2016</td>\n      <td>2012</td>\n      <td>WI Alpha Nu</td>\n      <td>NaN</td>\n      <td>NaN</td>\n      <td>NaN</td>\n      <td>NaN</td>\n      <td>NaN</td>\n      <td>NaN</td>\n      <td>NaN</td>\n      <td>NaN</td>\n    </tr>\n    <tr>\n      <td>145</td>\n      <td>NaN</td>\n      <td>0</td>\n      <td>2011</td>\n      <td>WI Chi Upsilon</td>\n      <td>NaN</td>\n      <td>NaN</td>\n      <td>NaN</td>\n      <td>NaN</td>\n      <td>NaN</td>\n      <td>NaN</td>\n      <td>NaN</td>\n      <td>NaN</td>\n    </tr>\n    <tr>\n      <td>146</td>\n      <td>NaN</td>\n      <td>0</td>\n      <td>1926</td>\n      <td>WI Omega</td>\n      <td>NaN</td>\n      <td>NaN</td>\n      <td>NaN</td>\n      <td>NaN</td>\n      <td>NaN</td>\n      <td>NaN</td>\n      <td>NaN</td>\n      <td>NaN</td>\n    </tr>\n    <tr>\n      <td>147</td>\n      <td>NaN</td>\n      <td>1959</td>\n      <td>1922</td>\n      <td>WV Mu</td>\n      <td>NaN</td>\n      <td>NaN</td>\n      <td>NaN</td>\n      <td>NaN</td>\n      <td>NaN</td>\n      <td>NaN</td>\n      <td>NaN</td>\n      <td>NaN</td>\n    </tr>\n  </tbody>\n</table>\n<p>148 rows × 12 columns</p>\n</div>"
     },
     "metadata": {},
     "execution_count": 13
    }
   ],
   "source": [
    "df_pilam_info"
   ]
  },
  {
   "cell_type": "code",
   "execution_count": 14,
   "metadata": {},
   "outputs": [],
   "source": [
    "#In the column ['University_link'] a None will be use to equal miising values\n",
    "#In the column ['Chapter_link'] a None will be use to equal miising values\n",
    "\n",
    "\n",
    "#Finds and Stores All University Links\n",
    "#Finds and Stores All Chapter Links\n",
    "#Fixes Unfuctional Links\n",
    "\n",
    "h = 'http'\n",
    "uni_links = []\n",
    "c_links = []\n",
    "fu_links = []\n",
    "fc_links = []\n",
    "\n",
    "\n",
    "\n",
    "\n",
    "##### You need to figure out for th eones that do not have a \n",
    "##### university link but do have a chapter link\n",
    "for u in divTag:\n",
    "    \n",
    "    aTag = pd.Series(u.find_all('a'))\n",
    "    \n",
    "    if(len(aTag) == 0):\n",
    "        \n",
    "        uni_links.append(None)\n",
    "        c_links.append(None) \n",
    "        fu_links.append(False)\n",
    "        fc_links.append(False)\n",
    "        \n",
    "    elif(len(aTag) == 1):        \n",
    "        if('.edu' in aTag[0].get('href') or '.ca' in  aTag[0].get('href') or 'wiki' in  aTag[0].get('href')):\n",
    "            if(h not in aTag[0].get('href')):\n",
    "                uni_links.append(h + 's://'+ aTag[0].get('href'))\n",
    "            else:\n",
    "                uni_links.append(aTag[0].get('href'))\n",
    "            \n",
    "            c_links.append(None) \n",
    "            fu_links.append(True)\n",
    "            fc_links.append(False)\n",
    "        \n",
    "        else:\n",
    "            \n",
    "            if h not in aTag[0].get('href'):\n",
    "                c_links.append(h + 's://'+ aTag[0].get('href'))\n",
    "            else:\n",
    "                c_links.append(aTag[0].get('href'))\n",
    "            uni_links.append(None) \n",
    "            fu_links.append(False)\n",
    "            fc_links.append(True)\n",
    "        \n",
    "    elif(len(aTag) > 1):\n",
    "        \n",
    "        if(h not in aTag[0].get('href')):\n",
    "            uni_links.append(h + 's://'+ aTag[0].get('href'))\n",
    "        else:\n",
    "            uni_links.append(aTag[0].get('href'))\n",
    "        \n",
    "        if(h not in aTag[1].get('href')):\n",
    "            c_links.append(h + 's://'+ aTag[1].get('href'))\n",
    "        else:\n",
    "            c_links.append(aTag[1].get('href'))\n",
    "        fu_links.append(True)\n",
    "        fc_links.append(True)\n",
    "    \n",
    "\n",
    "df_pilam_info['University_link'] = uni_links\n",
    "df_pilam_info['Chapter_link'] = c_links\n",
    "df_pilam_info['Functional_University_link'] = fu_links\n",
    "df_pilam_info['Functional_Chapter_link'] = fc_links\n"
   ]
  },
  {
   "cell_type": "code",
   "execution_count": 15,
   "metadata": {},
   "outputs": [
    {
     "output_type": "execute_result",
     "data": {
      "text/plain": [
       "'https://en.wikipedia.org/wiki/Alliance_College'"
      ]
     },
     "metadata": {},
     "execution_count": 15
    }
   ],
   "source": [
    "df_pilam_info['University_link'][123]"
   ]
  },
  {
   "cell_type": "code",
   "execution_count": 16,
   "metadata": {},
   "outputs": [],
   "source": [
    "#In the column ['State/Providence'] a '' will be use to equal missing values\n",
    "#In the column ['Country'] a '' will be use to equal missing values\n",
    "\n",
    "states = []\n",
    "country = []\n",
    "\n",
    "for x in names:\n",
    "    abbrev = (x[0]+x[1])\n",
    "    if( abbrev in abbrev_us_state ):\n",
    "        states.append(abbrev)\n",
    "        country.append('United States')\n",
    "    elif( 'CN' == abbrev):\n",
    "        states.append('')\n",
    "        country.append('Canada')\n",
    "    else:\n",
    "        state.append('')\n",
    "        country.append('')\n",
    "\n",
    "    \n",
    "df_pilam_info['State/Providence'] = states\n",
    "df_pilam_info['Country'] = country"
   ]
  },
  {
   "cell_type": "code",
   "execution_count": 17,
   "metadata": {},
   "outputs": [
    {
     "output_type": "execute_result",
     "data": {
      "text/plain": [
       "               University_link  Inactive_date  Founded_date      Chapter_name  \\\n",
       "0          https://www.ua.edu/           1940          1927      AL Alpha Eta   \n",
       "1       http://www.auburn.edu/           1990          1986     AL Alpha Zeta   \n",
       "2     http://www.ucmerced.edu/              0          2016  CA Alpha Upsilon   \n",
       "3         https://www.usc.edu/           1950          1920          CA Kappa   \n",
       "4     http://www.berkeley.edu/              0          1922            CA Tau   \n",
       "..                         ...            ...           ...               ...   \n",
       "143       https://www.ewu.edu/              0          1995  WA Epsilon Alpha   \n",
       "144    http://www.uwstout.edu/           2016          2012       WI Alpha Nu   \n",
       "145  https://www.carrollu.edu/              0          2011    WI Chi Upsilon   \n",
       "146      https://www.wisc.edu/              0          1926          WI Omega   \n",
       "147        http://www.wvu.edu/           1959          1922             WV Mu   \n",
       "\n",
       "                        Chapter_link State/Providence  Chapter_type  \\\n",
       "0                               None               AL           NaN   \n",
       "1                               None               AL           NaN   \n",
       "2      http://merced.pilambdaphi.org               CA           NaN   \n",
       "3                               None               CA           NaN   \n",
       "4    http://berkeley.pilambdaphi.org               CA           NaN   \n",
       "..                               ...              ...           ...   \n",
       "143       http://ewu.pilambdaphi.org               WA           NaN   \n",
       "144                             None               WI           NaN   \n",
       "145  http://carrollu.pilambdaphi.org               WI           NaN   \n",
       "146      http://wisc.pilambdaphi.org               WI           NaN   \n",
       "147                             None               WV           NaN   \n",
       "\n",
       "     Refounded_date  Functional_University_link        Country  \\\n",
       "0               NaN                        True  United States   \n",
       "1               NaN                        True  United States   \n",
       "2               NaN                        True  United States   \n",
       "3               NaN                        True  United States   \n",
       "4               NaN                        True  United States   \n",
       "..              ...                         ...            ...   \n",
       "143             NaN                        True  United States   \n",
       "144             NaN                        True  United States   \n",
       "145             NaN                        True  United States   \n",
       "146             NaN                        True  United States   \n",
       "147             NaN                        True  United States   \n",
       "\n",
       "     University_name  Functional_Chapter_link  \n",
       "0                NaN                    False  \n",
       "1                NaN                    False  \n",
       "2                NaN                     True  \n",
       "3                NaN                    False  \n",
       "4                NaN                     True  \n",
       "..               ...                      ...  \n",
       "143              NaN                     True  \n",
       "144              NaN                    False  \n",
       "145              NaN                     True  \n",
       "146              NaN                     True  \n",
       "147              NaN                    False  \n",
       "\n",
       "[148 rows x 12 columns]"
      ],
      "text/html": "<div>\n<style scoped>\n    .dataframe tbody tr th:only-of-type {\n        vertical-align: middle;\n    }\n\n    .dataframe tbody tr th {\n        vertical-align: top;\n    }\n\n    .dataframe thead th {\n        text-align: right;\n    }\n</style>\n<table border=\"1\" class=\"dataframe\">\n  <thead>\n    <tr style=\"text-align: right;\">\n      <th></th>\n      <th>University_link</th>\n      <th>Inactive_date</th>\n      <th>Founded_date</th>\n      <th>Chapter_name</th>\n      <th>Chapter_link</th>\n      <th>State/Providence</th>\n      <th>Chapter_type</th>\n      <th>Refounded_date</th>\n      <th>Functional_University_link</th>\n      <th>Country</th>\n      <th>University_name</th>\n      <th>Functional_Chapter_link</th>\n    </tr>\n  </thead>\n  <tbody>\n    <tr>\n      <td>0</td>\n      <td>https://www.ua.edu/</td>\n      <td>1940</td>\n      <td>1927</td>\n      <td>AL Alpha Eta</td>\n      <td>None</td>\n      <td>AL</td>\n      <td>NaN</td>\n      <td>NaN</td>\n      <td>True</td>\n      <td>United States</td>\n      <td>NaN</td>\n      <td>False</td>\n    </tr>\n    <tr>\n      <td>1</td>\n      <td>http://www.auburn.edu/</td>\n      <td>1990</td>\n      <td>1986</td>\n      <td>AL Alpha Zeta</td>\n      <td>None</td>\n      <td>AL</td>\n      <td>NaN</td>\n      <td>NaN</td>\n      <td>True</td>\n      <td>United States</td>\n      <td>NaN</td>\n      <td>False</td>\n    </tr>\n    <tr>\n      <td>2</td>\n      <td>http://www.ucmerced.edu/</td>\n      <td>0</td>\n      <td>2016</td>\n      <td>CA Alpha Upsilon</td>\n      <td>http://merced.pilambdaphi.org</td>\n      <td>CA</td>\n      <td>NaN</td>\n      <td>NaN</td>\n      <td>True</td>\n      <td>United States</td>\n      <td>NaN</td>\n      <td>True</td>\n    </tr>\n    <tr>\n      <td>3</td>\n      <td>https://www.usc.edu/</td>\n      <td>1950</td>\n      <td>1920</td>\n      <td>CA Kappa</td>\n      <td>None</td>\n      <td>CA</td>\n      <td>NaN</td>\n      <td>NaN</td>\n      <td>True</td>\n      <td>United States</td>\n      <td>NaN</td>\n      <td>False</td>\n    </tr>\n    <tr>\n      <td>4</td>\n      <td>http://www.berkeley.edu/</td>\n      <td>0</td>\n      <td>1922</td>\n      <td>CA Tau</td>\n      <td>http://berkeley.pilambdaphi.org</td>\n      <td>CA</td>\n      <td>NaN</td>\n      <td>NaN</td>\n      <td>True</td>\n      <td>United States</td>\n      <td>NaN</td>\n      <td>True</td>\n    </tr>\n    <tr>\n      <td>...</td>\n      <td>...</td>\n      <td>...</td>\n      <td>...</td>\n      <td>...</td>\n      <td>...</td>\n      <td>...</td>\n      <td>...</td>\n      <td>...</td>\n      <td>...</td>\n      <td>...</td>\n      <td>...</td>\n      <td>...</td>\n    </tr>\n    <tr>\n      <td>143</td>\n      <td>https://www.ewu.edu/</td>\n      <td>0</td>\n      <td>1995</td>\n      <td>WA Epsilon Alpha</td>\n      <td>http://ewu.pilambdaphi.org</td>\n      <td>WA</td>\n      <td>NaN</td>\n      <td>NaN</td>\n      <td>True</td>\n      <td>United States</td>\n      <td>NaN</td>\n      <td>True</td>\n    </tr>\n    <tr>\n      <td>144</td>\n      <td>http://www.uwstout.edu/</td>\n      <td>2016</td>\n      <td>2012</td>\n      <td>WI Alpha Nu</td>\n      <td>None</td>\n      <td>WI</td>\n      <td>NaN</td>\n      <td>NaN</td>\n      <td>True</td>\n      <td>United States</td>\n      <td>NaN</td>\n      <td>False</td>\n    </tr>\n    <tr>\n      <td>145</td>\n      <td>https://www.carrollu.edu/</td>\n      <td>0</td>\n      <td>2011</td>\n      <td>WI Chi Upsilon</td>\n      <td>http://carrollu.pilambdaphi.org</td>\n      <td>WI</td>\n      <td>NaN</td>\n      <td>NaN</td>\n      <td>True</td>\n      <td>United States</td>\n      <td>NaN</td>\n      <td>True</td>\n    </tr>\n    <tr>\n      <td>146</td>\n      <td>https://www.wisc.edu/</td>\n      <td>0</td>\n      <td>1926</td>\n      <td>WI Omega</td>\n      <td>http://wisc.pilambdaphi.org</td>\n      <td>WI</td>\n      <td>NaN</td>\n      <td>NaN</td>\n      <td>True</td>\n      <td>United States</td>\n      <td>NaN</td>\n      <td>True</td>\n    </tr>\n    <tr>\n      <td>147</td>\n      <td>http://www.wvu.edu/</td>\n      <td>1959</td>\n      <td>1922</td>\n      <td>WV Mu</td>\n      <td>None</td>\n      <td>WV</td>\n      <td>NaN</td>\n      <td>NaN</td>\n      <td>True</td>\n      <td>United States</td>\n      <td>NaN</td>\n      <td>False</td>\n    </tr>\n  </tbody>\n</table>\n<p>148 rows × 12 columns</p>\n</div>"
     },
     "metadata": {},
     "execution_count": 17
    }
   ],
   "source": [
    "df_pilam_info"
   ]
  },
  {
   "cell_type": "code",
   "execution_count": 18,
   "metadata": {},
   "outputs": [],
   "source": [
    "#HTML Section with the University name\n",
    "nTag = pd.Series(soup.find_all('div',{'class': \"fwpl-item el-oyzqgb\"}))  \n",
    "\n",
    "uni_name = []\n",
    "\n",
    "# Finds and Stores The University Names\n",
    "for n in nTag:\n",
    "    if len(n) < 1:\n",
    "        uni_name.append('')\n",
    "    elif len(n) >= 1:\n",
    "        uni_name.append(n.get_text().strip())\n",
    "\n",
    "df_pilam_info['University_name'] = uni_name"
   ]
  },
  {
   "cell_type": "code",
   "execution_count": 19,
   "metadata": {
    "scrolled": false
   },
   "outputs": [
    {
     "output_type": "execute_result",
     "data": {
      "text/plain": [
       "               University_link  Inactive_date  Founded_date      Chapter_name  \\\n",
       "0          https://www.ua.edu/           1940          1927      AL Alpha Eta   \n",
       "1       http://www.auburn.edu/           1990          1986     AL Alpha Zeta   \n",
       "2     http://www.ucmerced.edu/              0          2016  CA Alpha Upsilon   \n",
       "3         https://www.usc.edu/           1950          1920          CA Kappa   \n",
       "4     http://www.berkeley.edu/              0          1922            CA Tau   \n",
       "..                         ...            ...           ...               ...   \n",
       "143       https://www.ewu.edu/              0          1995  WA Epsilon Alpha   \n",
       "144    http://www.uwstout.edu/           2016          2012       WI Alpha Nu   \n",
       "145  https://www.carrollu.edu/              0          2011    WI Chi Upsilon   \n",
       "146      https://www.wisc.edu/              0          1926          WI Omega   \n",
       "147        http://www.wvu.edu/           1959          1922             WV Mu   \n",
       "\n",
       "                        Chapter_link State/Providence  Chapter_type  \\\n",
       "0                               None               AL           NaN   \n",
       "1                               None               AL           NaN   \n",
       "2      http://merced.pilambdaphi.org               CA           NaN   \n",
       "3                               None               CA           NaN   \n",
       "4    http://berkeley.pilambdaphi.org               CA           NaN   \n",
       "..                               ...              ...           ...   \n",
       "143       http://ewu.pilambdaphi.org               WA           NaN   \n",
       "144                             None               WI           NaN   \n",
       "145  http://carrollu.pilambdaphi.org               WI           NaN   \n",
       "146      http://wisc.pilambdaphi.org               WI           NaN   \n",
       "147                             None               WV           NaN   \n",
       "\n",
       "     Refounded_date  Functional_University_link        Country  \\\n",
       "0               NaN                        True  United States   \n",
       "1               NaN                        True  United States   \n",
       "2               NaN                        True  United States   \n",
       "3               NaN                        True  United States   \n",
       "4               NaN                        True  United States   \n",
       "..              ...                         ...            ...   \n",
       "143             NaN                        True  United States   \n",
       "144             NaN                        True  United States   \n",
       "145             NaN                        True  United States   \n",
       "146             NaN                        True  United States   \n",
       "147             NaN                        True  United States   \n",
       "\n",
       "                         University_name  Functional_Chapter_link  \n",
       "0                  University of Alabama                    False  \n",
       "1                      Auburn University                    False  \n",
       "2      University of California - Merced                     True  \n",
       "3      University of Southern California                    False  \n",
       "4    University of California - Berkeley                     True  \n",
       "..                                   ...                      ...  \n",
       "143        Eastern Washington University                     True  \n",
       "144      University of Wisconsin - Stout                    False  \n",
       "145                   Carroll University                     True  \n",
       "146    University of Wisconsin - Madison                     True  \n",
       "147             West Virginia University                    False  \n",
       "\n",
       "[148 rows x 12 columns]"
      ],
      "text/html": "<div>\n<style scoped>\n    .dataframe tbody tr th:only-of-type {\n        vertical-align: middle;\n    }\n\n    .dataframe tbody tr th {\n        vertical-align: top;\n    }\n\n    .dataframe thead th {\n        text-align: right;\n    }\n</style>\n<table border=\"1\" class=\"dataframe\">\n  <thead>\n    <tr style=\"text-align: right;\">\n      <th></th>\n      <th>University_link</th>\n      <th>Inactive_date</th>\n      <th>Founded_date</th>\n      <th>Chapter_name</th>\n      <th>Chapter_link</th>\n      <th>State/Providence</th>\n      <th>Chapter_type</th>\n      <th>Refounded_date</th>\n      <th>Functional_University_link</th>\n      <th>Country</th>\n      <th>University_name</th>\n      <th>Functional_Chapter_link</th>\n    </tr>\n  </thead>\n  <tbody>\n    <tr>\n      <td>0</td>\n      <td>https://www.ua.edu/</td>\n      <td>1940</td>\n      <td>1927</td>\n      <td>AL Alpha Eta</td>\n      <td>None</td>\n      <td>AL</td>\n      <td>NaN</td>\n      <td>NaN</td>\n      <td>True</td>\n      <td>United States</td>\n      <td>University of Alabama</td>\n      <td>False</td>\n    </tr>\n    <tr>\n      <td>1</td>\n      <td>http://www.auburn.edu/</td>\n      <td>1990</td>\n      <td>1986</td>\n      <td>AL Alpha Zeta</td>\n      <td>None</td>\n      <td>AL</td>\n      <td>NaN</td>\n      <td>NaN</td>\n      <td>True</td>\n      <td>United States</td>\n      <td>Auburn University</td>\n      <td>False</td>\n    </tr>\n    <tr>\n      <td>2</td>\n      <td>http://www.ucmerced.edu/</td>\n      <td>0</td>\n      <td>2016</td>\n      <td>CA Alpha Upsilon</td>\n      <td>http://merced.pilambdaphi.org</td>\n      <td>CA</td>\n      <td>NaN</td>\n      <td>NaN</td>\n      <td>True</td>\n      <td>United States</td>\n      <td>University of California - Merced</td>\n      <td>True</td>\n    </tr>\n    <tr>\n      <td>3</td>\n      <td>https://www.usc.edu/</td>\n      <td>1950</td>\n      <td>1920</td>\n      <td>CA Kappa</td>\n      <td>None</td>\n      <td>CA</td>\n      <td>NaN</td>\n      <td>NaN</td>\n      <td>True</td>\n      <td>United States</td>\n      <td>University of Southern California</td>\n      <td>False</td>\n    </tr>\n    <tr>\n      <td>4</td>\n      <td>http://www.berkeley.edu/</td>\n      <td>0</td>\n      <td>1922</td>\n      <td>CA Tau</td>\n      <td>http://berkeley.pilambdaphi.org</td>\n      <td>CA</td>\n      <td>NaN</td>\n      <td>NaN</td>\n      <td>True</td>\n      <td>United States</td>\n      <td>University of California - Berkeley</td>\n      <td>True</td>\n    </tr>\n    <tr>\n      <td>...</td>\n      <td>...</td>\n      <td>...</td>\n      <td>...</td>\n      <td>...</td>\n      <td>...</td>\n      <td>...</td>\n      <td>...</td>\n      <td>...</td>\n      <td>...</td>\n      <td>...</td>\n      <td>...</td>\n      <td>...</td>\n    </tr>\n    <tr>\n      <td>143</td>\n      <td>https://www.ewu.edu/</td>\n      <td>0</td>\n      <td>1995</td>\n      <td>WA Epsilon Alpha</td>\n      <td>http://ewu.pilambdaphi.org</td>\n      <td>WA</td>\n      <td>NaN</td>\n      <td>NaN</td>\n      <td>True</td>\n      <td>United States</td>\n      <td>Eastern Washington University</td>\n      <td>True</td>\n    </tr>\n    <tr>\n      <td>144</td>\n      <td>http://www.uwstout.edu/</td>\n      <td>2016</td>\n      <td>2012</td>\n      <td>WI Alpha Nu</td>\n      <td>None</td>\n      <td>WI</td>\n      <td>NaN</td>\n      <td>NaN</td>\n      <td>True</td>\n      <td>United States</td>\n      <td>University of Wisconsin - Stout</td>\n      <td>False</td>\n    </tr>\n    <tr>\n      <td>145</td>\n      <td>https://www.carrollu.edu/</td>\n      <td>0</td>\n      <td>2011</td>\n      <td>WI Chi Upsilon</td>\n      <td>http://carrollu.pilambdaphi.org</td>\n      <td>WI</td>\n      <td>NaN</td>\n      <td>NaN</td>\n      <td>True</td>\n      <td>United States</td>\n      <td>Carroll University</td>\n      <td>True</td>\n    </tr>\n    <tr>\n      <td>146</td>\n      <td>https://www.wisc.edu/</td>\n      <td>0</td>\n      <td>1926</td>\n      <td>WI Omega</td>\n      <td>http://wisc.pilambdaphi.org</td>\n      <td>WI</td>\n      <td>NaN</td>\n      <td>NaN</td>\n      <td>True</td>\n      <td>United States</td>\n      <td>University of Wisconsin - Madison</td>\n      <td>True</td>\n    </tr>\n    <tr>\n      <td>147</td>\n      <td>http://www.wvu.edu/</td>\n      <td>1959</td>\n      <td>1922</td>\n      <td>WV Mu</td>\n      <td>None</td>\n      <td>WV</td>\n      <td>NaN</td>\n      <td>NaN</td>\n      <td>True</td>\n      <td>United States</td>\n      <td>West Virginia University</td>\n      <td>False</td>\n    </tr>\n  </tbody>\n</table>\n<p>148 rows × 12 columns</p>\n</div>"
     },
     "metadata": {},
     "execution_count": 19
    }
   ],
   "source": [
    "df_pilam_info"
   ]
  },
  {
   "cell_type": "code",
   "execution_count": 20,
   "metadata": {},
   "outputs": [],
   "source": [
    "##Finds and Store all in chapter types\n",
    "divTag_ch  = pd.Series(soup.find_all('div',{'class': 'fwpl-item years_active'}))\n",
    "ch = []\n",
    "for info in divTag_ch:\n",
    "    spanTag_ch = pd.Series(info.find_all(string=re.compile('Chapter Type: ')))\n",
    "    k = spanTag_ch[0].replace(\"Chapter Type: \", '')\n",
    "    k = k.strip()\n",
    "    if(k == 'Chapter'):\n",
    "        ch.append(k)\n",
    "    else:\n",
    "        k = k.replace(\"Chapter\", '')\n",
    "        ch.append(k)\n",
    "\n",
    "df_pilam_info['Chapter_type'] = ch"
   ]
  },
  {
   "cell_type": "code",
   "execution_count": 21,
   "metadata": {},
   "outputs": [
    {
     "output_type": "execute_result",
     "data": {
      "text/plain": [
       "               University_link  Inactive_date  Founded_date      Chapter_name  \\\n",
       "0          https://www.ua.edu/           1940          1927      AL Alpha Eta   \n",
       "1       http://www.auburn.edu/           1990          1986     AL Alpha Zeta   \n",
       "2     http://www.ucmerced.edu/              0          2016  CA Alpha Upsilon   \n",
       "3         https://www.usc.edu/           1950          1920          CA Kappa   \n",
       "4     http://www.berkeley.edu/              0          1922            CA Tau   \n",
       "..                         ...            ...           ...               ...   \n",
       "143       https://www.ewu.edu/              0          1995  WA Epsilon Alpha   \n",
       "144    http://www.uwstout.edu/           2016          2012       WI Alpha Nu   \n",
       "145  https://www.carrollu.edu/              0          2011    WI Chi Upsilon   \n",
       "146      https://www.wisc.edu/              0          1926          WI Omega   \n",
       "147        http://www.wvu.edu/           1959          1922             WV Mu   \n",
       "\n",
       "                        Chapter_link State/Providence Chapter_type  \\\n",
       "0                               None               AL    Inactive    \n",
       "1                               None               AL    Inactive    \n",
       "2      http://merced.pilambdaphi.org               CA      Chapter   \n",
       "3                               None               CA    Inactive    \n",
       "4    http://berkeley.pilambdaphi.org               CA      Chapter   \n",
       "..                               ...              ...          ...   \n",
       "143       http://ewu.pilambdaphi.org               WA      Chapter   \n",
       "144                             None               WI    Inactive    \n",
       "145  http://carrollu.pilambdaphi.org               WI      Chapter   \n",
       "146      http://wisc.pilambdaphi.org               WI      Chapter   \n",
       "147                             None               WV    Inactive    \n",
       "\n",
       "     Refounded_date  Functional_University_link        Country  \\\n",
       "0               NaN                        True  United States   \n",
       "1               NaN                        True  United States   \n",
       "2               NaN                        True  United States   \n",
       "3               NaN                        True  United States   \n",
       "4               NaN                        True  United States   \n",
       "..              ...                         ...            ...   \n",
       "143             NaN                        True  United States   \n",
       "144             NaN                        True  United States   \n",
       "145             NaN                        True  United States   \n",
       "146             NaN                        True  United States   \n",
       "147             NaN                        True  United States   \n",
       "\n",
       "                         University_name  Functional_Chapter_link  \n",
       "0                  University of Alabama                    False  \n",
       "1                      Auburn University                    False  \n",
       "2      University of California - Merced                     True  \n",
       "3      University of Southern California                    False  \n",
       "4    University of California - Berkeley                     True  \n",
       "..                                   ...                      ...  \n",
       "143        Eastern Washington University                     True  \n",
       "144      University of Wisconsin - Stout                    False  \n",
       "145                   Carroll University                     True  \n",
       "146    University of Wisconsin - Madison                     True  \n",
       "147             West Virginia University                    False  \n",
       "\n",
       "[148 rows x 12 columns]"
      ],
      "text/html": "<div>\n<style scoped>\n    .dataframe tbody tr th:only-of-type {\n        vertical-align: middle;\n    }\n\n    .dataframe tbody tr th {\n        vertical-align: top;\n    }\n\n    .dataframe thead th {\n        text-align: right;\n    }\n</style>\n<table border=\"1\" class=\"dataframe\">\n  <thead>\n    <tr style=\"text-align: right;\">\n      <th></th>\n      <th>University_link</th>\n      <th>Inactive_date</th>\n      <th>Founded_date</th>\n      <th>Chapter_name</th>\n      <th>Chapter_link</th>\n      <th>State/Providence</th>\n      <th>Chapter_type</th>\n      <th>Refounded_date</th>\n      <th>Functional_University_link</th>\n      <th>Country</th>\n      <th>University_name</th>\n      <th>Functional_Chapter_link</th>\n    </tr>\n  </thead>\n  <tbody>\n    <tr>\n      <td>0</td>\n      <td>https://www.ua.edu/</td>\n      <td>1940</td>\n      <td>1927</td>\n      <td>AL Alpha Eta</td>\n      <td>None</td>\n      <td>AL</td>\n      <td>Inactive</td>\n      <td>NaN</td>\n      <td>True</td>\n      <td>United States</td>\n      <td>University of Alabama</td>\n      <td>False</td>\n    </tr>\n    <tr>\n      <td>1</td>\n      <td>http://www.auburn.edu/</td>\n      <td>1990</td>\n      <td>1986</td>\n      <td>AL Alpha Zeta</td>\n      <td>None</td>\n      <td>AL</td>\n      <td>Inactive</td>\n      <td>NaN</td>\n      <td>True</td>\n      <td>United States</td>\n      <td>Auburn University</td>\n      <td>False</td>\n    </tr>\n    <tr>\n      <td>2</td>\n      <td>http://www.ucmerced.edu/</td>\n      <td>0</td>\n      <td>2016</td>\n      <td>CA Alpha Upsilon</td>\n      <td>http://merced.pilambdaphi.org</td>\n      <td>CA</td>\n      <td>Chapter</td>\n      <td>NaN</td>\n      <td>True</td>\n      <td>United States</td>\n      <td>University of California - Merced</td>\n      <td>True</td>\n    </tr>\n    <tr>\n      <td>3</td>\n      <td>https://www.usc.edu/</td>\n      <td>1950</td>\n      <td>1920</td>\n      <td>CA Kappa</td>\n      <td>None</td>\n      <td>CA</td>\n      <td>Inactive</td>\n      <td>NaN</td>\n      <td>True</td>\n      <td>United States</td>\n      <td>University of Southern California</td>\n      <td>False</td>\n    </tr>\n    <tr>\n      <td>4</td>\n      <td>http://www.berkeley.edu/</td>\n      <td>0</td>\n      <td>1922</td>\n      <td>CA Tau</td>\n      <td>http://berkeley.pilambdaphi.org</td>\n      <td>CA</td>\n      <td>Chapter</td>\n      <td>NaN</td>\n      <td>True</td>\n      <td>United States</td>\n      <td>University of California - Berkeley</td>\n      <td>True</td>\n    </tr>\n    <tr>\n      <td>...</td>\n      <td>...</td>\n      <td>...</td>\n      <td>...</td>\n      <td>...</td>\n      <td>...</td>\n      <td>...</td>\n      <td>...</td>\n      <td>...</td>\n      <td>...</td>\n      <td>...</td>\n      <td>...</td>\n      <td>...</td>\n    </tr>\n    <tr>\n      <td>143</td>\n      <td>https://www.ewu.edu/</td>\n      <td>0</td>\n      <td>1995</td>\n      <td>WA Epsilon Alpha</td>\n      <td>http://ewu.pilambdaphi.org</td>\n      <td>WA</td>\n      <td>Chapter</td>\n      <td>NaN</td>\n      <td>True</td>\n      <td>United States</td>\n      <td>Eastern Washington University</td>\n      <td>True</td>\n    </tr>\n    <tr>\n      <td>144</td>\n      <td>http://www.uwstout.edu/</td>\n      <td>2016</td>\n      <td>2012</td>\n      <td>WI Alpha Nu</td>\n      <td>None</td>\n      <td>WI</td>\n      <td>Inactive</td>\n      <td>NaN</td>\n      <td>True</td>\n      <td>United States</td>\n      <td>University of Wisconsin - Stout</td>\n      <td>False</td>\n    </tr>\n    <tr>\n      <td>145</td>\n      <td>https://www.carrollu.edu/</td>\n      <td>0</td>\n      <td>2011</td>\n      <td>WI Chi Upsilon</td>\n      <td>http://carrollu.pilambdaphi.org</td>\n      <td>WI</td>\n      <td>Chapter</td>\n      <td>NaN</td>\n      <td>True</td>\n      <td>United States</td>\n      <td>Carroll University</td>\n      <td>True</td>\n    </tr>\n    <tr>\n      <td>146</td>\n      <td>https://www.wisc.edu/</td>\n      <td>0</td>\n      <td>1926</td>\n      <td>WI Omega</td>\n      <td>http://wisc.pilambdaphi.org</td>\n      <td>WI</td>\n      <td>Chapter</td>\n      <td>NaN</td>\n      <td>True</td>\n      <td>United States</td>\n      <td>University of Wisconsin - Madison</td>\n      <td>True</td>\n    </tr>\n    <tr>\n      <td>147</td>\n      <td>http://www.wvu.edu/</td>\n      <td>1959</td>\n      <td>1922</td>\n      <td>WV Mu</td>\n      <td>None</td>\n      <td>WV</td>\n      <td>Inactive</td>\n      <td>NaN</td>\n      <td>True</td>\n      <td>United States</td>\n      <td>West Virginia University</td>\n      <td>False</td>\n    </tr>\n  </tbody>\n</table>\n<p>148 rows × 12 columns</p>\n</div>"
     },
     "metadata": {},
     "execution_count": 21
    }
   ],
   "source": [
    "df_pilam_info"
   ]
  },
  {
   "cell_type": "code",
   "execution_count": 22,
   "metadata": {},
   "outputs": [],
   "source": [
    "#Adding the Refounded Dates\n",
    "# 0 will represent NaN values\n",
    "refo = [['CA Tau Alpha', 2019], ['FL Epsilon Lambda', 2019],['IN Alpha Theta',2014],['IN Epsilon Iota',2016],\n",
    "       ['MD Kappa Delta',2010 ], ['MD Alpha Omicron',2014], ['NJ Alpha Lambda', 2015],['NY Beta Omicron',2013],\n",
    "       ['NY Omega Epsilon', 2001], ['NY Phi Lambda',2010], ['NC Omega Beta', 1996], ['NC Omega Zeta',2007],\n",
    "       ['OH Beta Tau',2005], ['OH Alpha Epsilon',2018], ['OH Mu', 2020], ['PA Alpha Delta',2009],\n",
    "        ['PA Delta Iota', 2016], ['PA Epsilon Zeta', 2020], ['PA Gamma Sigma', 2016], ['PA Omega Gamma',2019],\n",
    "        ['VA Alpha Psi', 2013], ['VA Lambda Kappa', 2011], ['WV Mu',2020]]\n",
    "\n",
    "red = []\n",
    "for d in df_pilam_info['Chapter_name']:\n",
    "    for x in refo:\n",
    "        if d == x[0]:\n",
    "            red.append(x[1])\n",
    "            break\n",
    "        else:\n",
    "            red.append(0)\n",
    "            break\n",
    "\n",
    "df_pilam_info['Refounded_date'] = red"
   ]
  },
  {
   "cell_type": "code",
   "execution_count": 23,
   "metadata": {},
   "outputs": [
    {
     "output_type": "execute_result",
     "data": {
      "text/plain": [
       "               University_link  Inactive_date  Founded_date      Chapter_name  \\\n",
       "0          https://www.ua.edu/           1940          1927      AL Alpha Eta   \n",
       "1       http://www.auburn.edu/           1990          1986     AL Alpha Zeta   \n",
       "2     http://www.ucmerced.edu/              0          2016  CA Alpha Upsilon   \n",
       "3         https://www.usc.edu/           1950          1920          CA Kappa   \n",
       "4     http://www.berkeley.edu/              0          1922            CA Tau   \n",
       "..                         ...            ...           ...               ...   \n",
       "143       https://www.ewu.edu/              0          1995  WA Epsilon Alpha   \n",
       "144    http://www.uwstout.edu/           2016          2012       WI Alpha Nu   \n",
       "145  https://www.carrollu.edu/              0          2011    WI Chi Upsilon   \n",
       "146      https://www.wisc.edu/              0          1926          WI Omega   \n",
       "147        http://www.wvu.edu/           1959          1922             WV Mu   \n",
       "\n",
       "                        Chapter_link State/Providence Chapter_type  \\\n",
       "0                               None               AL    Inactive    \n",
       "1                               None               AL    Inactive    \n",
       "2      http://merced.pilambdaphi.org               CA      Chapter   \n",
       "3                               None               CA    Inactive    \n",
       "4    http://berkeley.pilambdaphi.org               CA      Chapter   \n",
       "..                               ...              ...          ...   \n",
       "143       http://ewu.pilambdaphi.org               WA      Chapter   \n",
       "144                             None               WI    Inactive    \n",
       "145  http://carrollu.pilambdaphi.org               WI      Chapter   \n",
       "146      http://wisc.pilambdaphi.org               WI      Chapter   \n",
       "147                             None               WV    Inactive    \n",
       "\n",
       "     Refounded_date  Functional_University_link        Country  \\\n",
       "0                 0                        True  United States   \n",
       "1                 0                        True  United States   \n",
       "2                 0                        True  United States   \n",
       "3                 0                        True  United States   \n",
       "4                 0                        True  United States   \n",
       "..              ...                         ...            ...   \n",
       "143               0                        True  United States   \n",
       "144               0                        True  United States   \n",
       "145               0                        True  United States   \n",
       "146               0                        True  United States   \n",
       "147               0                        True  United States   \n",
       "\n",
       "                         University_name  Functional_Chapter_link  \n",
       "0                  University of Alabama                    False  \n",
       "1                      Auburn University                    False  \n",
       "2      University of California - Merced                     True  \n",
       "3      University of Southern California                    False  \n",
       "4    University of California - Berkeley                     True  \n",
       "..                                   ...                      ...  \n",
       "143        Eastern Washington University                     True  \n",
       "144      University of Wisconsin - Stout                    False  \n",
       "145                   Carroll University                     True  \n",
       "146    University of Wisconsin - Madison                     True  \n",
       "147             West Virginia University                    False  \n",
       "\n",
       "[148 rows x 12 columns]"
      ],
      "text/html": "<div>\n<style scoped>\n    .dataframe tbody tr th:only-of-type {\n        vertical-align: middle;\n    }\n\n    .dataframe tbody tr th {\n        vertical-align: top;\n    }\n\n    .dataframe thead th {\n        text-align: right;\n    }\n</style>\n<table border=\"1\" class=\"dataframe\">\n  <thead>\n    <tr style=\"text-align: right;\">\n      <th></th>\n      <th>University_link</th>\n      <th>Inactive_date</th>\n      <th>Founded_date</th>\n      <th>Chapter_name</th>\n      <th>Chapter_link</th>\n      <th>State/Providence</th>\n      <th>Chapter_type</th>\n      <th>Refounded_date</th>\n      <th>Functional_University_link</th>\n      <th>Country</th>\n      <th>University_name</th>\n      <th>Functional_Chapter_link</th>\n    </tr>\n  </thead>\n  <tbody>\n    <tr>\n      <td>0</td>\n      <td>https://www.ua.edu/</td>\n      <td>1940</td>\n      <td>1927</td>\n      <td>AL Alpha Eta</td>\n      <td>None</td>\n      <td>AL</td>\n      <td>Inactive</td>\n      <td>0</td>\n      <td>True</td>\n      <td>United States</td>\n      <td>University of Alabama</td>\n      <td>False</td>\n    </tr>\n    <tr>\n      <td>1</td>\n      <td>http://www.auburn.edu/</td>\n      <td>1990</td>\n      <td>1986</td>\n      <td>AL Alpha Zeta</td>\n      <td>None</td>\n      <td>AL</td>\n      <td>Inactive</td>\n      <td>0</td>\n      <td>True</td>\n      <td>United States</td>\n      <td>Auburn University</td>\n      <td>False</td>\n    </tr>\n    <tr>\n      <td>2</td>\n      <td>http://www.ucmerced.edu/</td>\n      <td>0</td>\n      <td>2016</td>\n      <td>CA Alpha Upsilon</td>\n      <td>http://merced.pilambdaphi.org</td>\n      <td>CA</td>\n      <td>Chapter</td>\n      <td>0</td>\n      <td>True</td>\n      <td>United States</td>\n      <td>University of California - Merced</td>\n      <td>True</td>\n    </tr>\n    <tr>\n      <td>3</td>\n      <td>https://www.usc.edu/</td>\n      <td>1950</td>\n      <td>1920</td>\n      <td>CA Kappa</td>\n      <td>None</td>\n      <td>CA</td>\n      <td>Inactive</td>\n      <td>0</td>\n      <td>True</td>\n      <td>United States</td>\n      <td>University of Southern California</td>\n      <td>False</td>\n    </tr>\n    <tr>\n      <td>4</td>\n      <td>http://www.berkeley.edu/</td>\n      <td>0</td>\n      <td>1922</td>\n      <td>CA Tau</td>\n      <td>http://berkeley.pilambdaphi.org</td>\n      <td>CA</td>\n      <td>Chapter</td>\n      <td>0</td>\n      <td>True</td>\n      <td>United States</td>\n      <td>University of California - Berkeley</td>\n      <td>True</td>\n    </tr>\n    <tr>\n      <td>...</td>\n      <td>...</td>\n      <td>...</td>\n      <td>...</td>\n      <td>...</td>\n      <td>...</td>\n      <td>...</td>\n      <td>...</td>\n      <td>...</td>\n      <td>...</td>\n      <td>...</td>\n      <td>...</td>\n      <td>...</td>\n    </tr>\n    <tr>\n      <td>143</td>\n      <td>https://www.ewu.edu/</td>\n      <td>0</td>\n      <td>1995</td>\n      <td>WA Epsilon Alpha</td>\n      <td>http://ewu.pilambdaphi.org</td>\n      <td>WA</td>\n      <td>Chapter</td>\n      <td>0</td>\n      <td>True</td>\n      <td>United States</td>\n      <td>Eastern Washington University</td>\n      <td>True</td>\n    </tr>\n    <tr>\n      <td>144</td>\n      <td>http://www.uwstout.edu/</td>\n      <td>2016</td>\n      <td>2012</td>\n      <td>WI Alpha Nu</td>\n      <td>None</td>\n      <td>WI</td>\n      <td>Inactive</td>\n      <td>0</td>\n      <td>True</td>\n      <td>United States</td>\n      <td>University of Wisconsin - Stout</td>\n      <td>False</td>\n    </tr>\n    <tr>\n      <td>145</td>\n      <td>https://www.carrollu.edu/</td>\n      <td>0</td>\n      <td>2011</td>\n      <td>WI Chi Upsilon</td>\n      <td>http://carrollu.pilambdaphi.org</td>\n      <td>WI</td>\n      <td>Chapter</td>\n      <td>0</td>\n      <td>True</td>\n      <td>United States</td>\n      <td>Carroll University</td>\n      <td>True</td>\n    </tr>\n    <tr>\n      <td>146</td>\n      <td>https://www.wisc.edu/</td>\n      <td>0</td>\n      <td>1926</td>\n      <td>WI Omega</td>\n      <td>http://wisc.pilambdaphi.org</td>\n      <td>WI</td>\n      <td>Chapter</td>\n      <td>0</td>\n      <td>True</td>\n      <td>United States</td>\n      <td>University of Wisconsin - Madison</td>\n      <td>True</td>\n    </tr>\n    <tr>\n      <td>147</td>\n      <td>http://www.wvu.edu/</td>\n      <td>1959</td>\n      <td>1922</td>\n      <td>WV Mu</td>\n      <td>None</td>\n      <td>WV</td>\n      <td>Inactive</td>\n      <td>0</td>\n      <td>True</td>\n      <td>United States</td>\n      <td>West Virginia University</td>\n      <td>False</td>\n    </tr>\n  </tbody>\n</table>\n<p>148 rows × 12 columns</p>\n</div>"
     },
     "metadata": {},
     "execution_count": 23
    }
   ],
   "source": [
    "df_pilam_info"
   ]
  },
  {
   "cell_type": "code",
   "execution_count": null,
   "metadata": {},
   "outputs": [],
   "source": []
  },
  {
   "cell_type": "code",
   "execution_count": 24,
   "metadata": {},
   "outputs": [],
   "source": [
    "#name of the Columns\n",
    "col= {'Code','Total_F_Chapters','Active_Chapters/Colonies/Alumni','Inactive_Chapters'}\n",
    "\n",
    "#number of rows = number of USA states plus Canada\n",
    "index = range(0,51)\n",
    "\n",
    "# An (51,4) DataFrame with all elements equal to NaN\n",
    "df_pilam_count = pd.DataFrame(np.nan, index=index,columns= col)\n"
   ]
  },
  {
   "cell_type": "code",
   "execution_count": 25,
   "metadata": {},
   "outputs": [],
   "source": [
    "states =[]\n",
    "for x in abbrev_us_state:\n",
    "    states.append(x)\n",
    "states.append('CN')\n",
    "df_pilam_count['Code'] = states "
   ]
  },
  {
   "cell_type": "code",
   "execution_count": 26,
   "metadata": {},
   "outputs": [
    {
     "output_type": "execute_result",
     "data": {
      "text/plain": [
       "   Code  Inactive_Chapters  Active_Chapters/Colonies/Alumni  Total_F_Chapters  \\\n",
       "0    AL                NaN                              NaN               NaN   \n",
       "1    AK                NaN                              NaN               NaN   \n",
       "2    AZ                NaN                              NaN               NaN   \n",
       "3    AR                NaN                              NaN               NaN   \n",
       "4    CA                NaN                              NaN               NaN   \n",
       "5    CO                NaN                              NaN               NaN   \n",
       "6    CT                NaN                              NaN               NaN   \n",
       "7    DE                NaN                              NaN               NaN   \n",
       "8    FL                NaN                              NaN               NaN   \n",
       "9    GA                NaN                              NaN               NaN   \n",
       "10   HI                NaN                              NaN               NaN   \n",
       "11   ID                NaN                              NaN               NaN   \n",
       "12   IL                NaN                              NaN               NaN   \n",
       "13   IN                NaN                              NaN               NaN   \n",
       "14   IA                NaN                              NaN               NaN   \n",
       "15   KS                NaN                              NaN               NaN   \n",
       "16   KY                NaN                              NaN               NaN   \n",
       "17   LA                NaN                              NaN               NaN   \n",
       "18   ME                NaN                              NaN               NaN   \n",
       "19   MD                NaN                              NaN               NaN   \n",
       "20   MA                NaN                              NaN               NaN   \n",
       "21   MI                NaN                              NaN               NaN   \n",
       "22   MN                NaN                              NaN               NaN   \n",
       "23   MS                NaN                              NaN               NaN   \n",
       "24   MO                NaN                              NaN               NaN   \n",
       "25   MT                NaN                              NaN               NaN   \n",
       "26   NE                NaN                              NaN               NaN   \n",
       "27   NV                NaN                              NaN               NaN   \n",
       "28   NH                NaN                              NaN               NaN   \n",
       "29   NJ                NaN                              NaN               NaN   \n",
       "30   NM                NaN                              NaN               NaN   \n",
       "31   NY                NaN                              NaN               NaN   \n",
       "32   NC                NaN                              NaN               NaN   \n",
       "33   ND                NaN                              NaN               NaN   \n",
       "34   OH                NaN                              NaN               NaN   \n",
       "35   OK                NaN                              NaN               NaN   \n",
       "36   OR                NaN                              NaN               NaN   \n",
       "37   PA                NaN                              NaN               NaN   \n",
       "38   RI                NaN                              NaN               NaN   \n",
       "39   SC                NaN                              NaN               NaN   \n",
       "40   SD                NaN                              NaN               NaN   \n",
       "41   TN                NaN                              NaN               NaN   \n",
       "42   TX                NaN                              NaN               NaN   \n",
       "43   UT                NaN                              NaN               NaN   \n",
       "44   VT                NaN                              NaN               NaN   \n",
       "45   VA                NaN                              NaN               NaN   \n",
       "46   WA                NaN                              NaN               NaN   \n",
       "47   WV                NaN                              NaN               NaN   \n",
       "48   WI                NaN                              NaN               NaN   \n",
       "49   WY                NaN                              NaN               NaN   \n",
       "50   CN                NaN                              NaN               NaN   \n",
       "\n",
       "    Num_Chapters  \n",
       "0              2  \n",
       "1              0  \n",
       "2              0  \n",
       "3              0  \n",
       "4              5  \n",
       "5              2  \n",
       "6              4  \n",
       "7              1  \n",
       "8              9  \n",
       "9              0  \n",
       "10             0  \n",
       "11             0  \n",
       "12             2  \n",
       "13             4  \n",
       "14             3  \n",
       "15             0  \n",
       "16             1  \n",
       "17             0  \n",
       "18             2  \n",
       "19             5  \n",
       "20             8  \n",
       "21             5  \n",
       "22             2  \n",
       "23             0  \n",
       "24             1  \n",
       "25             0  \n",
       "26             1  \n",
       "27             0  \n",
       "28             1  \n",
       "29             4  \n",
       "30             1  \n",
       "31            25  \n",
       "32             6  \n",
       "33             0  \n",
       "34             5  \n",
       "35             1  \n",
       "36             0  \n",
       "37            24  \n",
       "38             2  \n",
       "39             1  \n",
       "40             0  \n",
       "41             0  \n",
       "42             4  \n",
       "43             0  \n",
       "44             0  \n",
       "45             8  \n",
       "46             1  \n",
       "47             1  \n",
       "48             3  \n",
       "49             0  \n",
       "50             0  "
      ],
      "text/html": "<div>\n<style scoped>\n    .dataframe tbody tr th:only-of-type {\n        vertical-align: middle;\n    }\n\n    .dataframe tbody tr th {\n        vertical-align: top;\n    }\n\n    .dataframe thead th {\n        text-align: right;\n    }\n</style>\n<table border=\"1\" class=\"dataframe\">\n  <thead>\n    <tr style=\"text-align: right;\">\n      <th></th>\n      <th>Code</th>\n      <th>Inactive_Chapters</th>\n      <th>Active_Chapters/Colonies/Alumni</th>\n      <th>Total_F_Chapters</th>\n      <th>Num_Chapters</th>\n    </tr>\n  </thead>\n  <tbody>\n    <tr>\n      <td>0</td>\n      <td>AL</td>\n      <td>NaN</td>\n      <td>NaN</td>\n      <td>NaN</td>\n      <td>2</td>\n    </tr>\n    <tr>\n      <td>1</td>\n      <td>AK</td>\n      <td>NaN</td>\n      <td>NaN</td>\n      <td>NaN</td>\n      <td>0</td>\n    </tr>\n    <tr>\n      <td>2</td>\n      <td>AZ</td>\n      <td>NaN</td>\n      <td>NaN</td>\n      <td>NaN</td>\n      <td>0</td>\n    </tr>\n    <tr>\n      <td>3</td>\n      <td>AR</td>\n      <td>NaN</td>\n      <td>NaN</td>\n      <td>NaN</td>\n      <td>0</td>\n    </tr>\n    <tr>\n      <td>4</td>\n      <td>CA</td>\n      <td>NaN</td>\n      <td>NaN</td>\n      <td>NaN</td>\n      <td>5</td>\n    </tr>\n    <tr>\n      <td>5</td>\n      <td>CO</td>\n      <td>NaN</td>\n      <td>NaN</td>\n      <td>NaN</td>\n      <td>2</td>\n    </tr>\n    <tr>\n      <td>6</td>\n      <td>CT</td>\n      <td>NaN</td>\n      <td>NaN</td>\n      <td>NaN</td>\n      <td>4</td>\n    </tr>\n    <tr>\n      <td>7</td>\n      <td>DE</td>\n      <td>NaN</td>\n      <td>NaN</td>\n      <td>NaN</td>\n      <td>1</td>\n    </tr>\n    <tr>\n      <td>8</td>\n      <td>FL</td>\n      <td>NaN</td>\n      <td>NaN</td>\n      <td>NaN</td>\n      <td>9</td>\n    </tr>\n    <tr>\n      <td>9</td>\n      <td>GA</td>\n      <td>NaN</td>\n      <td>NaN</td>\n      <td>NaN</td>\n      <td>0</td>\n    </tr>\n    <tr>\n      <td>10</td>\n      <td>HI</td>\n      <td>NaN</td>\n      <td>NaN</td>\n      <td>NaN</td>\n      <td>0</td>\n    </tr>\n    <tr>\n      <td>11</td>\n      <td>ID</td>\n      <td>NaN</td>\n      <td>NaN</td>\n      <td>NaN</td>\n      <td>0</td>\n    </tr>\n    <tr>\n      <td>12</td>\n      <td>IL</td>\n      <td>NaN</td>\n      <td>NaN</td>\n      <td>NaN</td>\n      <td>2</td>\n    </tr>\n    <tr>\n      <td>13</td>\n      <td>IN</td>\n      <td>NaN</td>\n      <td>NaN</td>\n      <td>NaN</td>\n      <td>4</td>\n    </tr>\n    <tr>\n      <td>14</td>\n      <td>IA</td>\n      <td>NaN</td>\n      <td>NaN</td>\n      <td>NaN</td>\n      <td>3</td>\n    </tr>\n    <tr>\n      <td>15</td>\n      <td>KS</td>\n      <td>NaN</td>\n      <td>NaN</td>\n      <td>NaN</td>\n      <td>0</td>\n    </tr>\n    <tr>\n      <td>16</td>\n      <td>KY</td>\n      <td>NaN</td>\n      <td>NaN</td>\n      <td>NaN</td>\n      <td>1</td>\n    </tr>\n    <tr>\n      <td>17</td>\n      <td>LA</td>\n      <td>NaN</td>\n      <td>NaN</td>\n      <td>NaN</td>\n      <td>0</td>\n    </tr>\n    <tr>\n      <td>18</td>\n      <td>ME</td>\n      <td>NaN</td>\n      <td>NaN</td>\n      <td>NaN</td>\n      <td>2</td>\n    </tr>\n    <tr>\n      <td>19</td>\n      <td>MD</td>\n      <td>NaN</td>\n      <td>NaN</td>\n      <td>NaN</td>\n      <td>5</td>\n    </tr>\n    <tr>\n      <td>20</td>\n      <td>MA</td>\n      <td>NaN</td>\n      <td>NaN</td>\n      <td>NaN</td>\n      <td>8</td>\n    </tr>\n    <tr>\n      <td>21</td>\n      <td>MI</td>\n      <td>NaN</td>\n      <td>NaN</td>\n      <td>NaN</td>\n      <td>5</td>\n    </tr>\n    <tr>\n      <td>22</td>\n      <td>MN</td>\n      <td>NaN</td>\n      <td>NaN</td>\n      <td>NaN</td>\n      <td>2</td>\n    </tr>\n    <tr>\n      <td>23</td>\n      <td>MS</td>\n      <td>NaN</td>\n      <td>NaN</td>\n      <td>NaN</td>\n      <td>0</td>\n    </tr>\n    <tr>\n      <td>24</td>\n      <td>MO</td>\n      <td>NaN</td>\n      <td>NaN</td>\n      <td>NaN</td>\n      <td>1</td>\n    </tr>\n    <tr>\n      <td>25</td>\n      <td>MT</td>\n      <td>NaN</td>\n      <td>NaN</td>\n      <td>NaN</td>\n      <td>0</td>\n    </tr>\n    <tr>\n      <td>26</td>\n      <td>NE</td>\n      <td>NaN</td>\n      <td>NaN</td>\n      <td>NaN</td>\n      <td>1</td>\n    </tr>\n    <tr>\n      <td>27</td>\n      <td>NV</td>\n      <td>NaN</td>\n      <td>NaN</td>\n      <td>NaN</td>\n      <td>0</td>\n    </tr>\n    <tr>\n      <td>28</td>\n      <td>NH</td>\n      <td>NaN</td>\n      <td>NaN</td>\n      <td>NaN</td>\n      <td>1</td>\n    </tr>\n    <tr>\n      <td>29</td>\n      <td>NJ</td>\n      <td>NaN</td>\n      <td>NaN</td>\n      <td>NaN</td>\n      <td>4</td>\n    </tr>\n    <tr>\n      <td>30</td>\n      <td>NM</td>\n      <td>NaN</td>\n      <td>NaN</td>\n      <td>NaN</td>\n      <td>1</td>\n    </tr>\n    <tr>\n      <td>31</td>\n      <td>NY</td>\n      <td>NaN</td>\n      <td>NaN</td>\n      <td>NaN</td>\n      <td>25</td>\n    </tr>\n    <tr>\n      <td>32</td>\n      <td>NC</td>\n      <td>NaN</td>\n      <td>NaN</td>\n      <td>NaN</td>\n      <td>6</td>\n    </tr>\n    <tr>\n      <td>33</td>\n      <td>ND</td>\n      <td>NaN</td>\n      <td>NaN</td>\n      <td>NaN</td>\n      <td>0</td>\n    </tr>\n    <tr>\n      <td>34</td>\n      <td>OH</td>\n      <td>NaN</td>\n      <td>NaN</td>\n      <td>NaN</td>\n      <td>5</td>\n    </tr>\n    <tr>\n      <td>35</td>\n      <td>OK</td>\n      <td>NaN</td>\n      <td>NaN</td>\n      <td>NaN</td>\n      <td>1</td>\n    </tr>\n    <tr>\n      <td>36</td>\n      <td>OR</td>\n      <td>NaN</td>\n      <td>NaN</td>\n      <td>NaN</td>\n      <td>0</td>\n    </tr>\n    <tr>\n      <td>37</td>\n      <td>PA</td>\n      <td>NaN</td>\n      <td>NaN</td>\n      <td>NaN</td>\n      <td>24</td>\n    </tr>\n    <tr>\n      <td>38</td>\n      <td>RI</td>\n      <td>NaN</td>\n      <td>NaN</td>\n      <td>NaN</td>\n      <td>2</td>\n    </tr>\n    <tr>\n      <td>39</td>\n      <td>SC</td>\n      <td>NaN</td>\n      <td>NaN</td>\n      <td>NaN</td>\n      <td>1</td>\n    </tr>\n    <tr>\n      <td>40</td>\n      <td>SD</td>\n      <td>NaN</td>\n      <td>NaN</td>\n      <td>NaN</td>\n      <td>0</td>\n    </tr>\n    <tr>\n      <td>41</td>\n      <td>TN</td>\n      <td>NaN</td>\n      <td>NaN</td>\n      <td>NaN</td>\n      <td>0</td>\n    </tr>\n    <tr>\n      <td>42</td>\n      <td>TX</td>\n      <td>NaN</td>\n      <td>NaN</td>\n      <td>NaN</td>\n      <td>4</td>\n    </tr>\n    <tr>\n      <td>43</td>\n      <td>UT</td>\n      <td>NaN</td>\n      <td>NaN</td>\n      <td>NaN</td>\n      <td>0</td>\n    </tr>\n    <tr>\n      <td>44</td>\n      <td>VT</td>\n      <td>NaN</td>\n      <td>NaN</td>\n      <td>NaN</td>\n      <td>0</td>\n    </tr>\n    <tr>\n      <td>45</td>\n      <td>VA</td>\n      <td>NaN</td>\n      <td>NaN</td>\n      <td>NaN</td>\n      <td>8</td>\n    </tr>\n    <tr>\n      <td>46</td>\n      <td>WA</td>\n      <td>NaN</td>\n      <td>NaN</td>\n      <td>NaN</td>\n      <td>1</td>\n    </tr>\n    <tr>\n      <td>47</td>\n      <td>WV</td>\n      <td>NaN</td>\n      <td>NaN</td>\n      <td>NaN</td>\n      <td>1</td>\n    </tr>\n    <tr>\n      <td>48</td>\n      <td>WI</td>\n      <td>NaN</td>\n      <td>NaN</td>\n      <td>NaN</td>\n      <td>3</td>\n    </tr>\n    <tr>\n      <td>49</td>\n      <td>WY</td>\n      <td>NaN</td>\n      <td>NaN</td>\n      <td>NaN</td>\n      <td>0</td>\n    </tr>\n    <tr>\n      <td>50</td>\n      <td>CN</td>\n      <td>NaN</td>\n      <td>NaN</td>\n      <td>NaN</td>\n      <td>0</td>\n    </tr>\n  </tbody>\n</table>\n</div>"
     },
     "metadata": {},
     "execution_count": 26
    }
   ],
   "source": [
    "num = []\n",
    "for x in df_pilam_count['Code']:\n",
    "    c = 0\n",
    "    for i in df_pilam_info['State/Providence']:\n",
    "        if x == i:\n",
    "            #c = c+1\n",
    "            c += 1\n",
    "    num.append(c)\n",
    "\n",
    "df_pilam_count['Num_Chapters'] = num\n",
    "\n",
    "df_pilam_count\n"
   ]
  },
  {
   "cell_type": "code",
   "execution_count": 27,
   "metadata": {},
   "outputs": [
    {
     "output_type": "display_data",
     "data": {
      "application/vnd.plotly.v1+json": {
       "config": {
        "plotlyServerURL": "https://plot.ly"
       },
       "data": [
        {
         "colorbar": {
          "title": {
           "text": "Number of Chapters"
          }
         },
         "colorscale": [
          [
           0,
           "rgb(243, 224, 247)"
          ],
          [
           0.16666666666666666,
           "rgb(228, 199, 241)"
          ],
          [
           0.3333333333333333,
           "rgb(209, 175, 232)"
          ],
          [
           0.5,
           "rgb(185, 152, 221)"
          ],
          [
           0.6666666666666666,
           "rgb(159, 130, 206)"
          ],
          [
           0.8333333333333334,
           "rgb(130, 109, 186)"
          ],
          [
           1,
           "rgb(99, 88, 159)"
          ]
         ],
         "locationmode": "USA-states",
         "locations": [
          "AL",
          "AK",
          "AZ",
          "AR",
          "CA",
          "CO",
          "CT",
          "DE",
          "FL",
          "GA",
          "HI",
          "ID",
          "IL",
          "IN",
          "IA",
          "KS",
          "KY",
          "LA",
          "ME",
          "MD",
          "MA",
          "MI",
          "MN",
          "MS",
          "MO",
          "MT",
          "NE",
          "NV",
          "NH",
          "NJ",
          "NM",
          "NY",
          "NC",
          "ND",
          "OH",
          "OK",
          "OR",
          "PA",
          "RI",
          "SC",
          "SD",
          "TN",
          "TX",
          "UT",
          "VT",
          "VA",
          "WA",
          "WV",
          "WI",
          "WY",
          "CN"
         ],
         "type": "choropleth",
         "z": [
          2,
          0,
          0,
          0,
          5,
          2,
          4,
          1,
          9,
          0,
          0,
          0,
          2,
          4,
          3,
          0,
          1,
          0,
          2,
          5,
          8,
          5,
          2,
          0,
          1,
          0,
          1,
          0,
          1,
          4,
          1,
          25,
          6,
          0,
          5,
          1,
          0,
          24,
          2,
          1,
          0,
          0,
          4,
          0,
          0,
          8,
          1,
          1,
          3,
          0,
          0
         ]
        }
       ],
       "layout": {
        "geo": {
         "scope": "usa"
        },
        "template": {
         "data": {
          "bar": [
           {
            "error_x": {
             "color": "#2a3f5f"
            },
            "error_y": {
             "color": "#2a3f5f"
            },
            "marker": {
             "line": {
              "color": "#E5ECF6",
              "width": 0.5
             }
            },
            "type": "bar"
           }
          ],
          "barpolar": [
           {
            "marker": {
             "line": {
              "color": "#E5ECF6",
              "width": 0.5
             }
            },
            "type": "barpolar"
           }
          ],
          "carpet": [
           {
            "aaxis": {
             "endlinecolor": "#2a3f5f",
             "gridcolor": "white",
             "linecolor": "white",
             "minorgridcolor": "white",
             "startlinecolor": "#2a3f5f"
            },
            "baxis": {
             "endlinecolor": "#2a3f5f",
             "gridcolor": "white",
             "linecolor": "white",
             "minorgridcolor": "white",
             "startlinecolor": "#2a3f5f"
            },
            "type": "carpet"
           }
          ],
          "choropleth": [
           {
            "colorbar": {
             "outlinewidth": 0,
             "ticks": ""
            },
            "type": "choropleth"
           }
          ],
          "contour": [
           {
            "colorbar": {
             "outlinewidth": 0,
             "ticks": ""
            },
            "colorscale": [
             [
              0,
              "#0d0887"
             ],
             [
              0.1111111111111111,
              "#46039f"
             ],
             [
              0.2222222222222222,
              "#7201a8"
             ],
             [
              0.3333333333333333,
              "#9c179e"
             ],
             [
              0.4444444444444444,
              "#bd3786"
             ],
             [
              0.5555555555555556,
              "#d8576b"
             ],
             [
              0.6666666666666666,
              "#ed7953"
             ],
             [
              0.7777777777777778,
              "#fb9f3a"
             ],
             [
              0.8888888888888888,
              "#fdca26"
             ],
             [
              1,
              "#f0f921"
             ]
            ],
            "type": "contour"
           }
          ],
          "contourcarpet": [
           {
            "colorbar": {
             "outlinewidth": 0,
             "ticks": ""
            },
            "type": "contourcarpet"
           }
          ],
          "heatmap": [
           {
            "colorbar": {
             "outlinewidth": 0,
             "ticks": ""
            },
            "colorscale": [
             [
              0,
              "#0d0887"
             ],
             [
              0.1111111111111111,
              "#46039f"
             ],
             [
              0.2222222222222222,
              "#7201a8"
             ],
             [
              0.3333333333333333,
              "#9c179e"
             ],
             [
              0.4444444444444444,
              "#bd3786"
             ],
             [
              0.5555555555555556,
              "#d8576b"
             ],
             [
              0.6666666666666666,
              "#ed7953"
             ],
             [
              0.7777777777777778,
              "#fb9f3a"
             ],
             [
              0.8888888888888888,
              "#fdca26"
             ],
             [
              1,
              "#f0f921"
             ]
            ],
            "type": "heatmap"
           }
          ],
          "heatmapgl": [
           {
            "colorbar": {
             "outlinewidth": 0,
             "ticks": ""
            },
            "colorscale": [
             [
              0,
              "#0d0887"
             ],
             [
              0.1111111111111111,
              "#46039f"
             ],
             [
              0.2222222222222222,
              "#7201a8"
             ],
             [
              0.3333333333333333,
              "#9c179e"
             ],
             [
              0.4444444444444444,
              "#bd3786"
             ],
             [
              0.5555555555555556,
              "#d8576b"
             ],
             [
              0.6666666666666666,
              "#ed7953"
             ],
             [
              0.7777777777777778,
              "#fb9f3a"
             ],
             [
              0.8888888888888888,
              "#fdca26"
             ],
             [
              1,
              "#f0f921"
             ]
            ],
            "type": "heatmapgl"
           }
          ],
          "histogram": [
           {
            "marker": {
             "colorbar": {
              "outlinewidth": 0,
              "ticks": ""
             }
            },
            "type": "histogram"
           }
          ],
          "histogram2d": [
           {
            "colorbar": {
             "outlinewidth": 0,
             "ticks": ""
            },
            "colorscale": [
             [
              0,
              "#0d0887"
             ],
             [
              0.1111111111111111,
              "#46039f"
             ],
             [
              0.2222222222222222,
              "#7201a8"
             ],
             [
              0.3333333333333333,
              "#9c179e"
             ],
             [
              0.4444444444444444,
              "#bd3786"
             ],
             [
              0.5555555555555556,
              "#d8576b"
             ],
             [
              0.6666666666666666,
              "#ed7953"
             ],
             [
              0.7777777777777778,
              "#fb9f3a"
             ],
             [
              0.8888888888888888,
              "#fdca26"
             ],
             [
              1,
              "#f0f921"
             ]
            ],
            "type": "histogram2d"
           }
          ],
          "histogram2dcontour": [
           {
            "colorbar": {
             "outlinewidth": 0,
             "ticks": ""
            },
            "colorscale": [
             [
              0,
              "#0d0887"
             ],
             [
              0.1111111111111111,
              "#46039f"
             ],
             [
              0.2222222222222222,
              "#7201a8"
             ],
             [
              0.3333333333333333,
              "#9c179e"
             ],
             [
              0.4444444444444444,
              "#bd3786"
             ],
             [
              0.5555555555555556,
              "#d8576b"
             ],
             [
              0.6666666666666666,
              "#ed7953"
             ],
             [
              0.7777777777777778,
              "#fb9f3a"
             ],
             [
              0.8888888888888888,
              "#fdca26"
             ],
             [
              1,
              "#f0f921"
             ]
            ],
            "type": "histogram2dcontour"
           }
          ],
          "mesh3d": [
           {
            "colorbar": {
             "outlinewidth": 0,
             "ticks": ""
            },
            "type": "mesh3d"
           }
          ],
          "parcoords": [
           {
            "line": {
             "colorbar": {
              "outlinewidth": 0,
              "ticks": ""
             }
            },
            "type": "parcoords"
           }
          ],
          "pie": [
           {
            "automargin": true,
            "type": "pie"
           }
          ],
          "scatter": [
           {
            "marker": {
             "colorbar": {
              "outlinewidth": 0,
              "ticks": ""
             }
            },
            "type": "scatter"
           }
          ],
          "scatter3d": [
           {
            "line": {
             "colorbar": {
              "outlinewidth": 0,
              "ticks": ""
             }
            },
            "marker": {
             "colorbar": {
              "outlinewidth": 0,
              "ticks": ""
             }
            },
            "type": "scatter3d"
           }
          ],
          "scattercarpet": [
           {
            "marker": {
             "colorbar": {
              "outlinewidth": 0,
              "ticks": ""
             }
            },
            "type": "scattercarpet"
           }
          ],
          "scattergeo": [
           {
            "marker": {
             "colorbar": {
              "outlinewidth": 0,
              "ticks": ""
             }
            },
            "type": "scattergeo"
           }
          ],
          "scattergl": [
           {
            "marker": {
             "colorbar": {
              "outlinewidth": 0,
              "ticks": ""
             }
            },
            "type": "scattergl"
           }
          ],
          "scattermapbox": [
           {
            "marker": {
             "colorbar": {
              "outlinewidth": 0,
              "ticks": ""
             }
            },
            "type": "scattermapbox"
           }
          ],
          "scatterpolar": [
           {
            "marker": {
             "colorbar": {
              "outlinewidth": 0,
              "ticks": ""
             }
            },
            "type": "scatterpolar"
           }
          ],
          "scatterpolargl": [
           {
            "marker": {
             "colorbar": {
              "outlinewidth": 0,
              "ticks": ""
             }
            },
            "type": "scatterpolargl"
           }
          ],
          "scatterternary": [
           {
            "marker": {
             "colorbar": {
              "outlinewidth": 0,
              "ticks": ""
             }
            },
            "type": "scatterternary"
           }
          ],
          "surface": [
           {
            "colorbar": {
             "outlinewidth": 0,
             "ticks": ""
            },
            "colorscale": [
             [
              0,
              "#0d0887"
             ],
             [
              0.1111111111111111,
              "#46039f"
             ],
             [
              0.2222222222222222,
              "#7201a8"
             ],
             [
              0.3333333333333333,
              "#9c179e"
             ],
             [
              0.4444444444444444,
              "#bd3786"
             ],
             [
              0.5555555555555556,
              "#d8576b"
             ],
             [
              0.6666666666666666,
              "#ed7953"
             ],
             [
              0.7777777777777778,
              "#fb9f3a"
             ],
             [
              0.8888888888888888,
              "#fdca26"
             ],
             [
              1,
              "#f0f921"
             ]
            ],
            "type": "surface"
           }
          ],
          "table": [
           {
            "cells": {
             "fill": {
              "color": "#EBF0F8"
             },
             "line": {
              "color": "white"
             }
            },
            "header": {
             "fill": {
              "color": "#C8D4E3"
             },
             "line": {
              "color": "white"
             }
            },
            "type": "table"
           }
          ]
         },
         "layout": {
          "annotationdefaults": {
           "arrowcolor": "#2a3f5f",
           "arrowhead": 0,
           "arrowwidth": 1
          },
          "coloraxis": {
           "colorbar": {
            "outlinewidth": 0,
            "ticks": ""
           }
          },
          "colorscale": {
           "diverging": [
            [
             0,
             "#8e0152"
            ],
            [
             0.1,
             "#c51b7d"
            ],
            [
             0.2,
             "#de77ae"
            ],
            [
             0.3,
             "#f1b6da"
            ],
            [
             0.4,
             "#fde0ef"
            ],
            [
             0.5,
             "#f7f7f7"
            ],
            [
             0.6,
             "#e6f5d0"
            ],
            [
             0.7,
             "#b8e186"
            ],
            [
             0.8,
             "#7fbc41"
            ],
            [
             0.9,
             "#4d9221"
            ],
            [
             1,
             "#276419"
            ]
           ],
           "sequential": [
            [
             0,
             "#0d0887"
            ],
            [
             0.1111111111111111,
             "#46039f"
            ],
            [
             0.2222222222222222,
             "#7201a8"
            ],
            [
             0.3333333333333333,
             "#9c179e"
            ],
            [
             0.4444444444444444,
             "#bd3786"
            ],
            [
             0.5555555555555556,
             "#d8576b"
            ],
            [
             0.6666666666666666,
             "#ed7953"
            ],
            [
             0.7777777777777778,
             "#fb9f3a"
            ],
            [
             0.8888888888888888,
             "#fdca26"
            ],
            [
             1,
             "#f0f921"
            ]
           ],
           "sequentialminus": [
            [
             0,
             "#0d0887"
            ],
            [
             0.1111111111111111,
             "#46039f"
            ],
            [
             0.2222222222222222,
             "#7201a8"
            ],
            [
             0.3333333333333333,
             "#9c179e"
            ],
            [
             0.4444444444444444,
             "#bd3786"
            ],
            [
             0.5555555555555556,
             "#d8576b"
            ],
            [
             0.6666666666666666,
             "#ed7953"
            ],
            [
             0.7777777777777778,
             "#fb9f3a"
            ],
            [
             0.8888888888888888,
             "#fdca26"
            ],
            [
             1,
             "#f0f921"
            ]
           ]
          },
          "colorway": [
           "#636efa",
           "#EF553B",
           "#00cc96",
           "#ab63fa",
           "#FFA15A",
           "#19d3f3",
           "#FF6692",
           "#B6E880",
           "#FF97FF",
           "#FECB52"
          ],
          "font": {
           "color": "#2a3f5f"
          },
          "geo": {
           "bgcolor": "white",
           "lakecolor": "white",
           "landcolor": "#E5ECF6",
           "showlakes": true,
           "showland": true,
           "subunitcolor": "white"
          },
          "hoverlabel": {
           "align": "left"
          },
          "hovermode": "closest",
          "mapbox": {
           "style": "light"
          },
          "paper_bgcolor": "white",
          "plot_bgcolor": "#E5ECF6",
          "polar": {
           "angularaxis": {
            "gridcolor": "white",
            "linecolor": "white",
            "ticks": ""
           },
           "bgcolor": "#E5ECF6",
           "radialaxis": {
            "gridcolor": "white",
            "linecolor": "white",
            "ticks": ""
           }
          },
          "scene": {
           "xaxis": {
            "backgroundcolor": "#E5ECF6",
            "gridcolor": "white",
            "gridwidth": 2,
            "linecolor": "white",
            "showbackground": true,
            "ticks": "",
            "zerolinecolor": "white"
           },
           "yaxis": {
            "backgroundcolor": "#E5ECF6",
            "gridcolor": "white",
            "gridwidth": 2,
            "linecolor": "white",
            "showbackground": true,
            "ticks": "",
            "zerolinecolor": "white"
           },
           "zaxis": {
            "backgroundcolor": "#E5ECF6",
            "gridcolor": "white",
            "gridwidth": 2,
            "linecolor": "white",
            "showbackground": true,
            "ticks": "",
            "zerolinecolor": "white"
           }
          },
          "shapedefaults": {
           "line": {
            "color": "#2a3f5f"
           }
          },
          "ternary": {
           "aaxis": {
            "gridcolor": "white",
            "linecolor": "white",
            "ticks": ""
           },
           "baxis": {
            "gridcolor": "white",
            "linecolor": "white",
            "ticks": ""
           },
           "bgcolor": "#E5ECF6",
           "caxis": {
            "gridcolor": "white",
            "linecolor": "white",
            "ticks": ""
           }
          },
          "title": {
           "x": 0.05
          },
          "xaxis": {
           "automargin": true,
           "gridcolor": "white",
           "linecolor": "white",
           "ticks": "",
           "title": {
            "standoff": 15
           },
           "zerolinecolor": "white",
           "zerolinewidth": 2
          },
          "yaxis": {
           "automargin": true,
           "gridcolor": "white",
           "linecolor": "white",
           "ticks": "",
           "title": {
            "standoff": 15
           },
           "zerolinecolor": "white",
           "zerolinewidth": 2
          }
         }
        },
        "title": {
         "text": "Total USA Chapters Pi Lambda Phi Founded"
        }
       }
      }
     },
     "metadata": {}
    }
   ],
   "source": [
    "import plotly.graph_objects as go\n",
    "\n",
    "fig = go.Figure(data=go.Choropleth(\n",
    "    locations=df_pilam_count['Code'], # Spatial coordinates\n",
    "    z = df_pilam_count['Num_Chapters'].astype(float), # Data to be color-coded\n",
    "    locationmode = 'USA-states', # set of locations match entries in `locations`\n",
    "    colorscale = 'purp',\n",
    "    colorbar_title = \"Number of Chapters\",\n",
    "))\n",
    "\n",
    "fig.update_layout(\n",
    "    title_text = 'Total USA Chapters Pi Lambda Phi Founded',\n",
    "    geo_scope='usa', # limite map scope to USA\n",
    ")\n",
    "\n",
    "fig.show()"
   ]
  },
  {
   "cell_type": "code",
   "execution_count": null,
   "metadata": {},
   "outputs": [],
   "source": []
  },
  {
   "cell_type": "code",
   "execution_count": null,
   "metadata": {},
   "outputs": [],
   "source": []
  },
  {
   "cell_type": "code",
   "execution_count": null,
   "metadata": {},
   "outputs": [],
   "source": []
  },
  {
   "cell_type": "code",
   "execution_count": null,
   "metadata": {},
   "outputs": [],
   "source": []
  }
 ],
 "metadata": {
  "kernelspec": {
   "display_name": "Python 3",
   "language": "python",
   "name": "python3"
  },
  "language_info": {
   "codemirror_mode": {
    "name": "ipython",
    "version": 3
   },
   "file_extension": ".py",
   "mimetype": "text/x-python",
   "name": "python",
   "nbconvert_exporter": "python",
   "pygments_lexer": "ipython3",
   "version": "3.7.4-final"
  }
 },
 "nbformat": 4,
 "nbformat_minor": 2
}